{
 "cells": [
  {
   "cell_type": "markdown",
   "metadata": {},
   "source": [
    "1, Import the visual package in python to make an animation on the screen of the position of the particle in Brownian motion.\n",
    "\n",
    "2, rewrite the radioactive decay, to generate 1000 random numbers following the non-uniformed distribution.\n"
   ]
  },
  {
   "cell_type": "code",
   "execution_count": 17,
   "metadata": {
    "ExecuteTime": {
     "end_time": "2020-10-20T02:41:09.631577Z",
     "start_time": "2020-10-20T02:40:55.769642Z"
    }
   },
   "outputs": [
    {
     "name": "stderr",
     "output_type": "stream",
     "text": [
      "Exception in Tkinter callback\n",
      "Traceback (most recent call last):\n",
      "  File \"E:\\zthel\\Documents\\ANACONDA\\lib\\tkinter\\__init__.py\", line 1883, in __call__\n",
      "    return self.func(*args)\n",
      "  File \"E:\\zthel\\Documents\\ANACONDA\\lib\\tkinter\\__init__.py\", line 804, in callit\n",
      "    func(*args)\n",
      "  File \"E:\\zthel\\Documents\\ANACONDA\\lib\\site-packages\\matplotlib\\backends\\_backend_tk.py\", line 253, in idle_draw\n",
      "    self.draw()\n",
      "  File \"E:\\zthel\\Documents\\ANACONDA\\lib\\site-packages\\matplotlib\\backends\\backend_tkagg.py\", line 10, in draw\n",
      "    _backend_tk.blit(self._tkphoto, self.renderer._renderer, (0, 1, 2, 3))\n",
      "  File \"E:\\zthel\\Documents\\ANACONDA\\lib\\site-packages\\matplotlib\\backends\\_backend_tk.py\", line 75, in blit\n",
      "    photoimage.blank()\n",
      "  File \"E:\\zthel\\Documents\\ANACONDA\\lib\\tkinter\\__init__.py\", line 4065, in blank\n",
      "    self.tk.call(self.name, 'blank')\n",
      "_tkinter.TclError: invalid command name \"pyimage72\"\n"
     ]
    }
   ],
   "source": [
    "#ffmpeg is no longer avalible for easy acess and methods of obtaining it seemed risky and complex. instead i found a helpful site @people.bu.edu\n",
    "#this helped me understand the generating of the animation, howevr \"matplotlib.use(agg)\" was an inoperable backend as well\n",
    "#so i found the solution to \"import tinker\" in order to achieve the animation which opens up on a seperate screen when ran. \n",
    "#\n",
    "\n",
    "import numpy as np\n",
    "import matplotlib\n",
    "#matplotlib.use(\"Agg\")\n",
    "#import tkinter\n",
    "#matplotlib.use('TkAgg')\n",
    "import matplotlib.pyplot as plt\n",
    "import matplotlib.animation as animation\n",
    "\n",
    "\n",
    "np.random.seed(5)\n",
    "\n",
    "\n",
    "# Set up formatting for the movie files\n",
    "Writer = animation.writers['ffmpeg']\n",
    "writer = Writer(fps=15, metadata=dict(artist='Me'), bitrate=1800)\n",
    "\n",
    "\n",
    "def generateRandomLines(dt, N):\n",
    "    \n",
    "    dX = np.sqrt(dt) * np.random.randn(1, N)\n",
    "    X = np.cumsum(dX, axis=1)\n",
    "    \n",
    "    dY = np.sqrt(dt) * np.random.randn(1, N)\n",
    "    Y = np.cumsum(dY, axis=1)\n",
    "    \n",
    "    lineData = np.vstack((X, Y))\n",
    "    \n",
    "    return lineData\n",
    "\n",
    "\n",
    "# Returns Line2D objects\n",
    "def updateLines(num, dataLines, lines):\n",
    "    for u, v in zip(lines, dataLines):\n",
    "        u.set_data(v[0:2, :num])\n",
    "\n",
    "    return lines\n",
    "\n",
    "\n",
    "N = 501 # Number of points\n",
    "T = 1.0 #Time interval, changes axes\n",
    "dt = T/(N-1)\n",
    "\n",
    "\n",
    "fig, ax = plt.subplots()\n",
    "\n",
    "data = [generateRandomLines(dt, N)]\n",
    "\n",
    "ax = plt.axes(xlim=(-2.0, 2.0), ylim=(-2.0, 2.0))\n",
    "\n",
    "#tighen axies\n",
    "x = data[0][0]\n",
    "y = data[0][1]\n",
    "xmin = min(x)\n",
    "xmax = max(x)\n",
    "ymin = min(y)\n",
    "ymax = max(y)\n",
    "ax = plt.axes(xlim=(xmin+0.1*xmin, xmax+0.1*xmax), ylim=(ymin+0.1*ymin, ymax+0.1*ymax))\n",
    "\n",
    "ax.set_xlabel('X(t)')\n",
    "ax.set_ylabel('Y(t)')\n",
    "ax.set_title('2D Discretized Brownian Paths')\n",
    "\n",
    "## Create a list of line2D objects\n",
    "lines = [ax.plot(dat[0, 0:1], dat[1, 0:1])[0] for dat in data]\n",
    "\n",
    "## Create the animation object\n",
    "anim = animation.FuncAnimation(fig, updateLines, N+1, fargs=(data, lines),\n",
    "                                   interval=30, repeat=True, blit=False)\n",
    "\n",
    "plt.tight_layout()\n",
    "plt.show()\n",
    "#plt.savefig(\"borwnian grid.png\")\n",
    "\n",
    "anim.save('brownian2d_1path.mp4', writer=writer)\n"
   ]
  },
  {
   "cell_type": "code",
   "execution_count": 18,
   "metadata": {
    "ExecuteTime": {
     "end_time": "2020-10-20T02:41:16.769486Z",
     "start_time": "2020-10-20T02:41:09.658506Z"
    },
    "scrolled": true
   },
   "outputs": [
    {
     "name": "stderr",
     "output_type": "stream",
     "text": [
      "Exception in Tkinter callback\n",
      "Traceback (most recent call last):\n",
      "  File \"E:\\zthel\\Documents\\ANACONDA\\lib\\tkinter\\__init__.py\", line 1883, in __call__\n",
      "    return self.func(*args)\n",
      "  File \"E:\\zthel\\Documents\\ANACONDA\\lib\\tkinter\\__init__.py\", line 804, in callit\n",
      "    func(*args)\n",
      "  File \"E:\\zthel\\Documents\\ANACONDA\\lib\\site-packages\\matplotlib\\backends\\_backend_tk.py\", line 253, in idle_draw\n",
      "    self.draw()\n",
      "  File \"E:\\zthel\\Documents\\ANACONDA\\lib\\site-packages\\matplotlib\\backends\\backend_tkagg.py\", line 10, in draw\n",
      "    _backend_tk.blit(self._tkphoto, self.renderer._renderer, (0, 1, 2, 3))\n",
      "  File \"E:\\zthel\\Documents\\ANACONDA\\lib\\site-packages\\matplotlib\\backends\\_backend_tk.py\", line 75, in blit\n",
      "    photoimage.blank()\n",
      "  File \"E:\\zthel\\Documents\\ANACONDA\\lib\\tkinter\\__init__.py\", line 4065, in blank\n",
      "    self.tk.call(self.name, 'blank')\n",
      "_tkinter.TclError: invalid command name \"pyimage82\"\n"
     ]
    }
   ],
   "source": [
    "## To generate the exponential distribution from uniform distribution\n",
    "import numpy as np\n",
    "import matplotlib.pyplot as plt\n",
    "\n",
    "tau = 3.053*60\n",
    "\n",
    "N_atom = 1000   #1000 Tl atoms\n",
    "N_time = 1000   #1000 seconds\n",
    "mu = np.log(2)/tau\n",
    "N_Pb = np.zeros([N_time-1])  #the array to store the number of decayed atoms in each time step \n",
    "N_Tl = N_atom * np.ones([N_time-1])  #the array to store the number of decayed atoms in each time step \n",
    "\n",
    "for i in range(N_atom):    \n",
    "    z0 = np.random.random()\n",
    "    x0 = int(-np.log(1-z0)/mu) #the time to decay from random number\n",
    "    if x0<N_time:     \n",
    "        N_Pb[x0:] += 1  #after decay, we need to count 1 from now on\n",
    "        N_Tl[x0:] -= 1  #after decay, we need to count 1 from now on\n",
    "        \n",
    "plt.plot(N_Tl, label='Tl')\n",
    "plt.plot(N_Pb, label='Pb')\n",
    "plt.xlabel(\"Time (s)\")\n",
    "plt.ylabel(\"Number of atoms\")\n",
    "\n",
    "plt.legend()\n",
    "plt.show()\n"
   ]
  },
  {
   "cell_type": "code",
   "execution_count": null,
   "metadata": {},
   "outputs": [],
   "source": []
  }
 ],
 "metadata": {
  "kernelspec": {
   "display_name": "Python 3",
   "language": "python",
   "name": "python3"
  },
  "language_info": {
   "codemirror_mode": {
    "name": "ipython",
    "version": 3
   },
   "file_extension": ".py",
   "mimetype": "text/x-python",
   "name": "python",
   "nbconvert_exporter": "python",
   "pygments_lexer": "ipython3",
   "version": "3.8.3"
  },
  "toc": {
   "base_numbering": 1,
   "nav_menu": {},
   "number_sections": true,
   "sideBar": true,
   "skip_h1_title": false,
   "title_cell": "Table of Contents",
   "title_sidebar": "Contents",
   "toc_cell": false,
   "toc_position": {},
   "toc_section_display": true,
   "toc_window_display": false
  },
  "varInspector": {
   "cols": {
    "lenName": 16,
    "lenType": 16,
    "lenVar": 40
   },
   "kernels_config": {
    "python": {
     "delete_cmd_postfix": "",
     "delete_cmd_prefix": "del ",
     "library": "var_list.py",
     "varRefreshCmd": "print(var_dic_list())"
    },
    "r": {
     "delete_cmd_postfix": ") ",
     "delete_cmd_prefix": "rm(",
     "library": "var_list.r",
     "varRefreshCmd": "cat(var_dic_list()) "
    }
   },
   "types_to_exclude": [
    "module",
    "function",
    "builtin_function_or_method",
    "instance",
    "_Feature"
   ],
   "window_display": false
  }
 },
 "nbformat": 4,
 "nbformat_minor": 4
}
