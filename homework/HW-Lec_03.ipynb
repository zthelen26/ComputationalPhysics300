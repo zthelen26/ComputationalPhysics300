{
 "cells": [
  {
   "cell_type": "code",
   "execution_count": 2,
   "metadata": {},
   "outputs": [
    {
     "name": "stdout",
     "output_type": "stream",
     "text": [
      "type a value for qA energy units: 5\n",
      "NA= 300 , qA= 5 ,NB= 200 , qB= 95  Multiplicity is 2.2687976211200156e+89 \n"
     ]
    }
   ],
   "source": [
    "import matplotlib.pyplot as plt\n",
    "from math import log, exp\n",
    "\n",
    "def factorial(z):\n",
    "    if z == 0:\n",
    "        return 1\n",
    "    else:\n",
    "        return z * factorial(z-1)\n",
    "    good_z = False\n",
    "    \n",
    "def calc_omega1(NA,qA):\n",
    "    return factorial(qA+NA-1)/(factorial(qA)*factorial(NA-1))\n",
    "\n",
    "NA = 300\n",
    "good_qA = False\n",
    "while good_qA is False:        \n",
    "    qA=int(input(\"type a value for qA energy units: \"))\n",
    "    if qA<0:\n",
    "        print (\"qA must be a positive integer!\")\n",
    "    else:\n",
    "        good_qA = True\n",
    "        \n",
    "def calc_omega2(NB,qB):\n",
    "    return factorial(qB+NB-1)/(factorial(qB)*factorial(NB-1))\n",
    "\n",
    "NB = 200\n",
    "qB = 100-qA\n",
    "\n",
    "def omega_w(qA):\n",
    "    return calc_omega1(NA,qA)*calc_omega2(NB,qB)\n",
    "print (\"NA=\",NA, \", qA=\",qA,\",NB=\",NB, \", qB=\",qB, ' Multiplicity is', omega_w(qA), \"\")\n",
    "\n"
   ]
  },
  {
   "cell_type": "code",
   "execution_count": 3,
   "metadata": {},
   "outputs": [
    {
     "name": "stdout",
     "output_type": "stream",
     "text": [
      "type a value for qA energy units: 5\n",
      "NA= 3000 , qA= 5 ,NB= 2000 , qB= 95  Multiplicity is 7.018831049264036e+181 \n"
     ]
    }
   ],
   "source": [
    "\n",
    "from math import factorial\n",
    "def calc_omega1approx(NA,qA):\n",
    "     return exp(log(factorial(qA+NA-1)) - log(factorial(qA)) - log(factorial(NA-1))) #approximation when N>>q\n",
    "\n",
    "NA = 3000\n",
    "good_qA = False\n",
    "while good_qA is False:        \n",
    "    qA=int(input(\"type a value for qA energy units: \"))\n",
    "    if qA<0:\n",
    "        print (\"qA must be a positive integer!\")\n",
    "    else:\n",
    "        good_qA = True\n",
    "        \n",
    "def calc_omega2approx(NB,qB):\n",
    "    return exp(log(factorial(qB+NB-1)) - log(factorial(qB)) - log(factorial(NB-1))) #approximation when N>>q\n",
    "\n",
    "NB = 2000\n",
    "qB = 100-qA\n",
    "\n",
    "def omega_wapprox(qA):\n",
    "    return calc_omega1approx(NA,qA)*calc_omega2approx(NB,qB)\n",
    "print (\"NA=\",NA, \", qA=\",qA,\",NB=\",NB, \", qB=\",qB, ' Multiplicity is', omega_wapprox(qA), \"\")\n",
    "\n"
   ]
  },
  {
   "cell_type": "code",
   "execution_count": 4,
   "metadata": {},
   "outputs": [
    {
     "name": "stdout",
     "output_type": "stream",
     "text": [
      "type a value for qA energy units: 5\n"
     ]
    },
    {
     "data": {
      "image/png": "[encoded data removed]",
      "text/plain": [
       "<Figure size 432x288 with 1 Axes>"
      ]
     },
     "metadata": {
      "needs_background": "light"
     },
     "output_type": "display_data"
    }
   ],
   "source": [
    "import matplotlib.pyplot as plt\n",
    "from math import factorial\n",
    "\n",
    "    \n",
    "def calc_omega1approx(NA,qA):\n",
    "     return exp(log(factorial(qA+NA-1)) - log(factorial(qA)) - log(factorial(NA-1))) #approximation when N>>q\n",
    "        \n",
    "def calc_omega2approx(NB,qB):\n",
    "    return exp(log(factorial(qB+NB-1)) - log(factorial(qB)) - log(factorial(NB-1))) #approximation when N>>q\n",
    "\n",
    "def omega_wapprox(qA):\n",
    "    return calc_omega1approx(NA,qA)*calc_omega2approx(NB,qB)\n",
    "\n",
    "\n",
    "NB = 2000\n",
    "qB = 100-qA\n",
    "NA = 3000\n",
    "good_qA = False\n",
    "while good_qA is False:        \n",
    "    qA=int(input(\"type a value for qA energy units: \"))\n",
    "    if qA<0:\n",
    "        print (\"qA must be a positive integer!\")\n",
    "    else:\n",
    "        good_qA = True  \n",
    "\n",
    "    qA_series = range(qA+1)     \n",
    "    omega_series = []\n",
    "\n",
    "    for i in qA_series:\n",
    "        omega_series.append(omega_wapprox(i))\n",
    "    \n",
    "    plt.plot(qA_series, omega_series)\n",
    "    plt.title('qA='+str(qA))\n",
    "    plt.xlabel('qA')\n",
    "    plt.ylabel('$\\Omega(qA)$')\n",
    "\n",
    "    plt.show()\n",
    "\n"
   ]
  },
  {
   "cell_type": "code",
   "execution_count": 1,
   "metadata": {},
   "outputs": [
    {
     "name": "stdout",
     "output_type": "stream",
     "text": [
      "type a value for qA energy units: 10\n",
      "NA= 300 , qA= 10 ,NB= 200 , qB= 90  Multiplicity is 6.701278180455547e+94 \n",
      "type a value for qA energy units: 10\n",
      "NA= 3000 , qA= 10 ,NB= 2000 , qB= 90  Multiplicity is 9.901605619994202e+187 \n",
      "type a value for qA energy units: 10\n"
     ]
    },
    {
     "data": {
      "image/png": "[encoded data removed]",
      "text/plain": [
       "<Figure size 432x288 with 1 Axes>"
      ]
     },
     "metadata": {
      "needs_background": "light"
     },
     "output_type": "display_data"
    }
   ],
   "source": [
    "#!/usr/bin/env python\n",
    "# coding: utf-8\n",
    "\n",
    "# In[1]:\n",
    "\n",
    "\n",
    "import matplotlib.pyplot as plt\n",
    "from math import log, exp\n",
    "\n",
    "def factorial(z):\n",
    "    if z == 0:\n",
    "        return 1\n",
    "    else:\n",
    "        return z * factorial(z-1)\n",
    "    good_z = False\n",
    "    \n",
    "def calc_omega1(NA,qA):\n",
    "    return factorial(qA+NA-1)/(factorial(qA)*factorial(NA-1))\n",
    "\n",
    "NA = 300\n",
    "good_qA = False\n",
    "while good_qA is False:        \n",
    "    qA=int(input(\"type a value for qA energy units: \"))\n",
    "    if qA<0:\n",
    "        print (\"qA must be a positive integer!\")\n",
    "    else:\n",
    "        good_qA = True\n",
    "        \n",
    "def calc_omega2(NB,qB):\n",
    "    return factorial(qB+NB-1)/(factorial(qB)*factorial(NB-1))\n",
    "\n",
    "NB = 200\n",
    "qB = 100-qA\n",
    "\n",
    "def omega_w(qA):\n",
    "    return calc_omega1(NA,qA)*calc_omega2(NB,qB)\n",
    "print (\"NA=\",NA, \", qA=\",qA,\",NB=\",NB, \", qB=\",qB, ' Multiplicity is', omega_w(qA), \"\")\n",
    "\n",
    "\n",
    "# In[2]:\n",
    "\n",
    "\n",
    "from math import factorial\n",
    "def calc_omega1approx(NA,qA):\n",
    "     return exp(log(factorial(qA+NA-1)) - log(factorial(qA)) - log(factorial(NA-1))) #approximation when N>>q\n",
    "\n",
    "NA = 3000\n",
    "good_qA = False\n",
    "while good_qA is False:        \n",
    "    qA=int(input(\"type a value for qA energy units: \"))\n",
    "    if qA<0:\n",
    "        print (\"qA must be a positive integer!\")\n",
    "    else:\n",
    "        good_qA = True\n",
    "        \n",
    "def calc_omega2approx(NB,qB):\n",
    "    return exp(log(factorial(qB+NB-1)) - log(factorial(qB)) - log(factorial(NB-1))) #approximation when N>>q\n",
    "\n",
    "NB = 2000\n",
    "qB = 100-qA\n",
    "\n",
    "def omega_wapprox(qA):\n",
    "    return calc_omega1approx(NA,qA)*calc_omega2approx(NB,qB)\n",
    "print (\"NA=\",NA, \", qA=\",qA,\",NB=\",NB, \", qB=\",qB, ' Multiplicity is', omega_wapprox(qA), \"\")\n",
    "\n",
    "\n",
    "# In[3]:\n",
    "\n",
    "\n",
    "import matplotlib.pyplot as plt\n",
    "from math import factorial\n",
    "\n",
    "    \n",
    "def calc_omega1approx(NA,qA):\n",
    "     return exp(log(factorial(qA+NA-1)) - log(factorial(qA)) - log(factorial(NA-1))) #approximation when N>>q\n",
    "        \n",
    "def calc_omega2approx(NB,qB):\n",
    "    return exp(log(factorial(qB+NB-1)) - log(factorial(qB)) - log(factorial(NB-1))) #approximation when N>>q\n",
    "\n",
    "def omega_wapprox(qA):\n",
    "    return calc_omega1approx(NA,qA)*calc_omega2approx(NB,qB)\n",
    "\n",
    "\n",
    "NB = 2000\n",
    "qB = 100-qA\n",
    "NA = 3000\n",
    "good_qA = False\n",
    "while good_qA is False:        \n",
    "    qA=int(input(\"type a value for qA energy units: \"))\n",
    "    if qA<0:\n",
    "        print (\"qA must be a positive integer!\")\n",
    "    else:\n",
    "        good_qA = True  \n",
    "\n",
    "    qA_series = range(qA+1)     \n",
    "    omega_series = []\n",
    "\n",
    "    for i in qA_series:\n",
    "        omega_series.append(omega_wapprox(i))\n",
    "    \n",
    "    plt.plot(qA_series, omega_series)\n",
    "    plt.title('qA='+str(qA))\n",
    "    plt.xlabel('qA')\n",
    "    plt.ylabel('$\\Omega(qA)$')\n",
    "\n",
    "    plt.show()\n",
    "\n",
    "\n",
    "# In[ ]:\n"
   ]
  }
 ],
 "metadata": {
  "kernelspec": {
   "display_name": "Python 3",
   "language": "python",
   "name": "python3"
  },
  "language_info": {
   "codemirror_mode": {
    "name": "ipython",
    "version": 3
   },
   "file_extension": ".py",
   "mimetype": "text/x-python",
   "name": "python",
   "nbconvert_exporter": "python",
   "pygments_lexer": "ipython3",
   "version": "3.8.3"
  }
 },
 "nbformat": 4,
 "nbformat_minor": 4
}
