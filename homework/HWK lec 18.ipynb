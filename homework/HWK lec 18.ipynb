{
 "cells": [
  {
   "cell_type": "markdown",
   "metadata": {},
   "source": [
    "- 18\n",
    "\n",
    " - Try different minimization methods in scipy on larger systems ($N$ = 8, 10, 13) show:\n",
    "\n",
    "   1. The average number of attempts to find the ground state\n",
    "   2. The time costs"
   ]
  },
  {
   "cell_type": "code",
   "execution_count": 8,
   "metadata": {
    "ExecuteTime": {
     "end_time": "2020-11-02T01:26:52.547718Z",
     "start_time": "2020-11-02T01:26:52.541733Z"
    }
   },
   "outputs": [],
   "source": [
    "import numpy as np\n",
    "\n",
    "def LJ(r):\n",
    "    r6 = r**6\n",
    "    r12 = r6*r6\n",
    "    return 4*(1/r12 - 1/r6)\n",
    "\n",
    "def total_energy(positions):\n",
    "    \n",
    "    E = 0\n",
    "    N_atom = int(len(positions)/3)\n",
    "\n",
    "    #positions = [x0, y0, z0, x1, y1, z1, .....  , xn, yn, zn]\n",
    "    for i in range(N_atom-1):\n",
    "        for j in range(i+1, N_atom):\n",
    "            pos1 = positions[i*3:(i+1)*3]\n",
    "            pos2 = positions[j*3:(j+1)*3]\n",
    "            #print('pos1:  ', pos1)\n",
    "            #print('pos2:  ', pos2)\n",
    "            dist = np.linalg.norm(pos1-pos2)\n",
    "            #print(i,j, dist)\n",
    "            E += LJ(dist)\n",
    "    return E\n",
    "            \n",
    "def init_pos(N, L=5):\n",
    "    return L*np.random.random_sample((N*3,))"
   ]
  },
  {
   "cell_type": "code",
   "execution_count": 9,
   "metadata": {
    "ExecuteTime": {
     "end_time": "2020-11-02T01:26:53.095775Z",
     "start_time": "2020-11-02T01:26:52.761148Z"
    }
   },
   "outputs": [
    {
     "data": {
      "text/plain": [
       "-44.32680141873467"
      ]
     },
     "execution_count": 9,
     "metadata": {},
     "output_type": "execute_result"
    }
   ],
   "source": [
    "#Another simpler way to read from url\n",
    "import pandas as pd\n",
    "import numpy as np\n",
    "# Load dataset\n",
    "N=13\n",
    "url = \"http://doye.chem.ox.ac.uk/jon/structures/LJ/points/\"+str(N)\n",
    "names = ['x', 'y', 'z']\n",
    "dataset = pd.read_csv(url, names=names, delim_whitespace=True)\n",
    "pos = dataset.values\n",
    "pos = np.reshape(pos, [N*3,1])\n",
    "total_energy(pos)"
   ]
  },
  {
   "cell_type": "code",
   "execution_count": 10,
   "metadata": {
    "ExecuteTime": {
     "end_time": "2020-11-02T01:26:53.119711Z",
     "start_time": "2020-11-02T01:26:53.115721Z"
    }
   },
   "outputs": [],
   "source": [
    "def dist(N_atoms):\n",
    "    pos = get_pos_from_url(N = N_atoms)\n",
    "    pos = np.reshape(pos,[N_atoms,3])\n",
    "    #pos = 10*np.random.random(N_atoms*3)\n",
    "    #pos = np.reshape(pos,[N_atoms,3])\n",
    "    distance = cdist(pos,pos,'euclidean')\n",
    "    iu1 = np.triu_indices(N_atoms)\n",
    "    distance = distance[iu1]\n",
    "    index = np.argwhere(distance==0)\n",
    "    distance = np.delete(distance,index)\n",
    "    return distance"
   ]
  },
  {
   "cell_type": "code",
   "execution_count": 17,
   "metadata": {
    "ExecuteTime": {
     "end_time": "2020-11-02T01:29:44.615717Z",
     "start_time": "2020-11-02T01:29:44.609734Z"
    }
   },
   "outputs": [],
   "source": [
    "def Total_Energy(positions):\n",
    "\n",
    "    E = LJ(positions)\n",
    "    Energy = np.sum(E)\n",
    "    return Energy\n",
    "\n",
    "N_attempts = 50\n",
    "f_values = []\n",
    "x_values = []\n",
    "\n",
    "#First Scipy optimize method\n",
    "def ground_state_potential(N_atom):\n",
    "    pos = dist(N_atom)\n",
    "    for i in range(N_attempts):\n",
    "        \n",
    "        res = minimize(Total_Energy, pos, method='CG', tol=1e-4)\n",
    "        f_values.append(res.fun)\n",
    "        x_values.append(res.x)\n",
    "        if i%10==0:\n",
    "           print('Step: ', i, '  Value:', res.fun, \"Iterations: \", res.nit)\n",
    "\n",
    "    print('Ground state potential:  ', min(f_values))\n"
   ]
  },
  {
   "cell_type": "code",
   "execution_count": 18,
   "metadata": {
    "ExecuteTime": {
     "end_time": "2020-11-02T01:29:48.834039Z",
     "start_time": "2020-11-02T01:29:46.225455Z"
    }
   },
   "outputs": [
    {
     "name": "stdout",
     "output_type": "stream",
     "text": [
      "Results \n",
      "\n",
      "Step:  0   Value: -27.999999999984894 Iterations:  14\n",
      "Step:  10   Value: -27.999999999984894 Iterations:  14\n",
      "Step:  20   Value: -27.999999999984894 Iterations:  14\n",
      "Step:  30   Value: -27.999999999984894 Iterations:  14\n",
      "Step:  40   Value: -27.999999999984894 Iterations:  14\n",
      "Ground state potential:   -27.999999999984894\n",
      "Wall time: 2.6 s\n"
     ]
    }
   ],
   "source": [
    "%%time\n",
    "\n",
    "print(\"Results\", \"\\n\")\n",
    "ground_state_potential,m(8)"
   ]
  },
  {
   "cell_type": "code",
   "execution_count": 19,
   "metadata": {
    "ExecuteTime": {
     "end_time": "2020-11-02T01:30:03.479872Z",
     "start_time": "2020-11-02T01:29:59.497384Z"
    }
   },
   "outputs": [
    {
     "name": "stdout",
     "output_type": "stream",
     "text": [
      "Results \n",
      "\n",
      "Step:  0   Value: -44.9999999998881 Iterations:  18\n",
      "Step:  10   Value: -44.9999999998881 Iterations:  18\n",
      "Step:  20   Value: -44.9999999998881 Iterations:  18\n",
      "Step:  30   Value: -44.9999999998881 Iterations:  18\n",
      "Step:  40   Value: -44.9999999998881 Iterations:  18\n",
      "Ground state potential:   -44.9999999998881\n",
      "Wall time: 3.98 s\n"
     ]
    }
   ],
   "source": [
    "%%time\n",
    "\n",
    "print(\"Results\", \"\\n\")\n",
    "ground_state_potential(10)"
   ]
  },
  {
   "cell_type": "code",
   "execution_count": 20,
   "metadata": {
    "ExecuteTime": {
     "end_time": "2020-11-02T01:30:13.052531Z",
     "start_time": "2020-11-02T01:30:07.276811Z"
    }
   },
   "outputs": [
    {
     "name": "stdout",
     "output_type": "stream",
     "text": [
      "Results \n",
      "\n",
      "Step:  0   Value: -77.99999999999979 Iterations:  17\n",
      "Step:  10   Value: -77.99999999999979 Iterations:  17\n",
      "Step:  20   Value: -77.99999999999979 Iterations:  17\n",
      "Step:  30   Value: -77.99999999999979 Iterations:  17\n",
      "Step:  40   Value: -77.99999999999979 Iterations:  17\n",
      "Ground state potential:   -77.99999999999979\n",
      "Wall time: 5.77 s\n"
     ]
    }
   ],
   "source": [
    "%%time\n",
    "\n",
    "print(\"Results\", \"\\n\")\n",
    "ground_state_potential(13)"
   ]
  },
  {
   "cell_type": "code",
   "execution_count": null,
   "metadata": {},
   "outputs": [],
   "source": []
  }
 ],
 "metadata": {
  "kernelspec": {
   "display_name": "Python 3",
   "language": "python",
   "name": "python3"
  },
  "language_info": {
   "codemirror_mode": {
    "name": "ipython",
    "version": 3
   },
   "file_extension": ".py",
   "mimetype": "text/x-python",
   "name": "python",
   "nbconvert_exporter": "python",
   "pygments_lexer": "ipython3",
   "version": "3.8.3"
  },
  "toc": {
   "base_numbering": 1,
   "nav_menu": {},
   "number_sections": true,
   "sideBar": true,
   "skip_h1_title": false,
   "title_cell": "Table of Contents",
   "title_sidebar": "Contents",
   "toc_cell": false,
   "toc_position": {},
   "toc_section_display": true,
   "toc_window_display": false
  },
  "varInspector": {
   "cols": {
    "lenName": 16,
    "lenType": 16,
    "lenVar": 40
   },
   "kernels_config": {
    "python": {
     "delete_cmd_postfix": "",
     "delete_cmd_prefix": "del ",
     "library": "var_list.py",
     "varRefreshCmd": "print(var_dic_list())"
    },
    "r": {
     "delete_cmd_postfix": ") ",
     "delete_cmd_prefix": "rm(",
     "library": "var_list.r",
     "varRefreshCmd": "cat(var_dic_list()) "
    }
   },
   "types_to_exclude": [
    "module",
    "function",
    "builtin_function_or_method",
    "instance",
    "_Feature"
   ],
   "window_display": false
  }
 },
 "nbformat": 4,
 "nbformat_minor": 4
}
