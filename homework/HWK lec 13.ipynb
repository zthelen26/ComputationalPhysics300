{
 "cells": [
  {
   "cell_type": "markdown",
   "metadata": {},
   "source": [
    "2.5  15.5 Homework (by 10 am Oct 19, 2017)\n",
    "\n",
    "a) Write a program that generates and prints out two random numbers between 1 and 6, to simulate the rolling of two dice.\n",
    "\n",
    "b) Modify your program to simulate the rolling of two dice a million times (N0) and count the number of times you get double six (N1). Calculate the probability of finding double six in your simulations (N1/N0)\n",
    "\n",
    "c) Write a code to generate random integers within [-5, 5], find the magic series of {a, c, m} [Don't use the built-in function in numpy]"
   ]
  },
  {
   "cell_type": "code",
   "execution_count": 1,
   "metadata": {
    "ExecuteTime": {
     "end_time": "2020-10-14T07:25:52.466055Z",
     "start_time": "2020-10-14T07:25:52.407212Z"
    }
   },
   "outputs": [
    {
     "name": "stdout",
     "output_type": "stream",
     "text": [
      "[46 48 59 60 13] [40 50 16 68  7]\n"
     ]
    },
    {
     "data": {
      "text/plain": [
       "array([0.94278707, 0.52496846, 0.24322162, 0.48579286, 0.54009557,\n",
       "       0.36584311, 0.06031294, 0.32092686, 0.19064404, 0.22614622])"
      ]
     },
     "execution_count": 1,
     "metadata": {},
     "output_type": "execute_result"
    }
   ],
   "source": [
    "import numpy as np\n",
    "\n",
    "#np.random.seed(0)\n",
    "a=np.random.randint(0,100,5)\n",
    "b=np.random.randint(0,100,5)\n",
    "print(a,b)\n",
    "np.random.random_sample(10)"
   ]
  },
  {
   "cell_type": "code",
   "execution_count": 17,
   "metadata": {
    "ExecuteTime": {
     "end_time": "2020-10-14T07:30:24.260048Z",
     "start_time": "2020-10-14T07:30:24.256058Z"
    }
   },
   "outputs": [
    {
     "name": "stdout",
     "output_type": "stream",
     "text": [
      "dice #1: 4\n",
      "dice #2: 2\n"
     ]
    }
   ],
   "source": [
    "#dice\n",
    "import numpy as np\n",
    "a=np.random.randint(1,6)\n",
    "b=np.random.randint(1,6)\n",
    "\n",
    "print(\"dice #1:\",a)\n",
    "print(\"dice #2:\",b)"
   ]
  },
  {
   "cell_type": "code",
   "execution_count": 19,
   "metadata": {
    "ExecuteTime": {
     "end_time": "2020-10-14T07:34:12.401637Z",
     "start_time": "2020-10-14T07:34:07.357279Z"
    }
   },
   "outputs": [
    {
     "name": "stdout",
     "output_type": "stream",
     "text": [
      "Total rolled: 1000000\n",
      "Double 6's: 27695\n",
      "Probability of double 6's: 2.7695000000000003 %\n"
     ]
    }
   ],
   "source": [
    "#rolling two dice a million times \n",
    "import numpy as np\n",
    "N0=1000000\n",
    "d=[]\n",
    "count=0\n",
    "for i in range(N0):\n",
    "    a=np.random.randint(1,7)\n",
    "    b=np.random.randint(1,7)\n",
    "    if (a==6)&(b==6):\n",
    "        count= count+1\n",
    "    c=[a,b]\n",
    "    d.append(c)\n",
    "#print(d)  \n",
    "print(\"Total rolled:\", N0)\n",
    "print(\"Double 6's:\", count)\n",
    "print(\"Probability of double 6's:\", count/N0*100,\"%\")"
   ]
  },
  {
   "cell_type": "code",
   "execution_count": 42,
   "metadata": {
    "ExecuteTime": {
     "end_time": "2020-10-14T07:54:28.716885Z",
     "start_time": "2020-10-14T07:54:28.334907Z"
    }
   },
   "outputs": [
    {
     "name": "stdout",
     "output_type": "stream",
     "text": [
      "[-5, -5, -5, -5, 4, -2, -1, 4, 0, 0]\n"
     ]
    },
    {
     "data": {
      "image/png": "[encoded data removed]",
      "text/plain": [
       "<Figure size 432x288 with 1 Axes>"
      ]
     },
     "metadata": {
      "needs_background": "light"
     },
     "output_type": "display_data"
    },
    {
     "data": {
      "image/png": "[encoded data removed]",
      "text/plain": [
       "<Figure size 432x288 with 1 Axes>"
      ]
     },
     "metadata": {
      "needs_background": "light"
     },
     "output_type": "display_data"
    }
   ],
   "source": [
    "#generate random int[-5,5], find magic series of [a,c,m]\n",
    "\n",
    "import matplotlib.pyplot as plt\n",
    "\n",
    "N = 1000\n",
    "a = 7*7\n",
    "c = 1012\n",
    "m = 2**31-1 #4245035300\n",
    "x = 1\n",
    "results = []\n",
    "\n",
    "for i in range(N):      \n",
    "    x = (a*x+c)%m\n",
    "    results.append(x-5)\n",
    "results = [int(x/m*10)-5  for x in results]\n",
    "\n",
    "print(results[:10])  \n",
    "plt.plot(results,\"o\")\n",
    "plt.show()\n",
    "\n",
    "plt.hist(results)\n",
    "plt.show()"
   ]
  },
  {
   "cell_type": "code",
   "execution_count": 37,
   "metadata": {
    "ExecuteTime": {
     "end_time": "2020-10-14T07:51:01.254428Z",
     "start_time": "2020-10-14T07:51:01.138231Z"
    }
   },
   "outputs": [
    {
     "name": "stdout",
     "output_type": "stream",
     "text": [
      "[ 0 -2 -3  0  1 -2 -3  3 -5  4] [ 0 -2 -3 -3 -5  1  0 -2 -1  2]\n"
     ]
    },
    {
     "data": {
      "text/plain": [
       "[<matplotlib.lines.Line2D at 0x1a3ec798ee0>]"
      ]
     },
     "execution_count": 37,
     "metadata": {},
     "output_type": "execute_result"
    },
    {
     "data": {
      "image/png": "[encoded data removed]",
      "text/plain": [
       "<Figure size 432x288 with 1 Axes>"
      ]
     },
     "metadata": {
      "needs_background": "light"
     },
     "output_type": "display_data"
    }
   ],
   "source": [
    "#automated way\n",
    "import numpy as np\n",
    "import matplotlib.pyplot as plt\n",
    "\n",
    "#np.random.seed(0)\n",
    "a=np.random.randint(-5,5,10)\n",
    "b=np.random.randint(-5,5,10)\n",
    "print(a,b)\n",
    "np.random.random_sample(100)\n",
    "\n",
    "plt.plot(a,b,\"o\")"
   ]
  },
  {
   "cell_type": "code",
   "execution_count": null,
   "metadata": {},
   "outputs": [],
   "source": []
  }
 ],
 "metadata": {
  "kernelspec": {
   "display_name": "Python 3",
   "language": "python",
   "name": "python3"
  },
  "language_info": {
   "codemirror_mode": {
    "name": "ipython",
    "version": 3
   },
   "file_extension": ".py",
   "mimetype": "text/x-python",
   "name": "python",
   "nbconvert_exporter": "python",
   "pygments_lexer": "ipython3",
   "version": "3.8.3"
  },
  "toc": {
   "base_numbering": 1,
   "nav_menu": {},
   "number_sections": true,
   "sideBar": true,
   "skip_h1_title": false,
   "title_cell": "Table of Contents",
   "title_sidebar": "Contents",
   "toc_cell": false,
   "toc_position": {},
   "toc_section_display": true,
   "toc_window_display": false
  },
  "varInspector": {
   "cols": {
    "lenName": 16,
    "lenType": 16,
    "lenVar": 40
   },
   "kernels_config": {
    "python": {
     "delete_cmd_postfix": "",
     "delete_cmd_prefix": "del ",
     "library": "var_list.py",
     "varRefreshCmd": "print(var_dic_list())"
    },
    "r": {
     "delete_cmd_postfix": ") ",
     "delete_cmd_prefix": "rm(",
     "library": "var_list.r",
     "varRefreshCmd": "cat(var_dic_list()) "
    }
   },
   "types_to_exclude": [
    "module",
    "function",
    "builtin_function_or_method",
    "instance",
    "_Feature"
   ],
   "window_display": false
  }
 },
 "nbformat": 4,
 "nbformat_minor": 4
}
