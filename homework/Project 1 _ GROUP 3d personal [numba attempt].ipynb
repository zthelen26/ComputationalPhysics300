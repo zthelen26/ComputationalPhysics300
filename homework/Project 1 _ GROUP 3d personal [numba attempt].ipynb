{
 "cells": [
  {
   "cell_type": "markdown",
   "metadata": {},
   "source": [
    "###### $3D  Procedure$ \n"
   ]
  },
  {
   "cell_type": "markdown",
   "metadata": {
    "slideshow": {
     "slide_type": "slide"
    }
   },
   "source": [
    "K3D;\n",
    "I wanted to use Vpython (From lecture notes), but I couldn't get it to consistently run within my J-notebook. Many examples wouldn't display an image, 'least a simulation(it would work sporadically). Other solutions after a search were K3d, ipyvolume, and ffmpeg method that recently is unavailable. ipyvolume had better geometry, for this case K3D will do. "
   ]
  },
  {
   "cell_type": "code",
   "execution_count": 2,
   "metadata": {
    "ExecuteTime": {
     "end_time": "2020-11-18T21:28:27.191800Z",
     "start_time": "2020-11-18T21:28:27.170292Z"
    },
    "code_folding": [],
    "slideshow": {
     "slide_type": "slide"
    }
   },
   "outputs": [
    {
     "ename": "OSError",
     "evalue": "Could not load shared object file: llvmlite.dll",
     "output_type": "error",
     "traceback": [
      "\u001b[1;31m---------------------------------------------------------------------------\u001b[0m",
      "\u001b[1;31mOSError\u001b[0m                                   Traceback (most recent call last)",
      "\u001b[1;32m<ipython-input-2-41ab7ab7e3ba>\u001b[0m in \u001b[0;36m<module>\u001b[1;34m\u001b[0m\n\u001b[0;32m      7\u001b[0m \u001b[1;32mfrom\u001b[0m \u001b[0mIPython\u001b[0m\u001b[1;33m.\u001b[0m\u001b[0mdisplay\u001b[0m \u001b[1;32mimport\u001b[0m \u001b[0mdisplay\u001b[0m\u001b[1;33m,\u001b[0m \u001b[0mclear_output\u001b[0m\u001b[1;33m\u001b[0m\u001b[1;33m\u001b[0m\u001b[0m\n\u001b[0;32m      8\u001b[0m \u001b[1;32mfrom\u001b[0m \u001b[0mnumpy\u001b[0m \u001b[1;32mimport\u001b[0m \u001b[0mexp\u001b[0m\u001b[1;33m\u001b[0m\u001b[1;33m\u001b[0m\u001b[0m\n\u001b[1;32m----> 9\u001b[1;33m \u001b[1;32mfrom\u001b[0m \u001b[0mnumba\u001b[0m \u001b[1;32mimport\u001b[0m \u001b[0mjit\u001b[0m\u001b[1;33m\u001b[0m\u001b[1;33m\u001b[0m\u001b[0m\n\u001b[0m",
      "\u001b[1;32mE:\\zthel\\Documents\\ANACONDA\\lib\\site-packages\\numba\\__init__.py\u001b[0m in \u001b[0;36m<module>\u001b[1;34m\u001b[0m\n\u001b[0;32m     12\u001b[0m \u001b[1;32mdel\u001b[0m \u001b[0mget_versions\u001b[0m\u001b[1;33m\u001b[0m\u001b[1;33m\u001b[0m\u001b[0m\n\u001b[0;32m     13\u001b[0m \u001b[1;33m\u001b[0m\u001b[0m\n\u001b[1;32m---> 14\u001b[1;33m \u001b[1;32mfrom\u001b[0m \u001b[0mnumba\u001b[0m\u001b[1;33m.\u001b[0m\u001b[0mcore\u001b[0m \u001b[1;32mimport\u001b[0m \u001b[0mconfig\u001b[0m\u001b[1;33m\u001b[0m\u001b[1;33m\u001b[0m\u001b[0m\n\u001b[0m\u001b[0;32m     15\u001b[0m \u001b[1;32mfrom\u001b[0m \u001b[0mnumba\u001b[0m\u001b[1;33m.\u001b[0m\u001b[0mtesting\u001b[0m \u001b[1;32mimport\u001b[0m \u001b[0m_runtests\u001b[0m \u001b[1;32mas\u001b[0m \u001b[0mruntests\u001b[0m\u001b[1;33m\u001b[0m\u001b[1;33m\u001b[0m\u001b[0m\n\u001b[0;32m     16\u001b[0m \u001b[1;32mfrom\u001b[0m \u001b[0mnumba\u001b[0m\u001b[1;33m.\u001b[0m\u001b[0mcore\u001b[0m \u001b[1;32mimport\u001b[0m \u001b[0mtypes\u001b[0m\u001b[1;33m,\u001b[0m \u001b[0merrors\u001b[0m\u001b[1;33m\u001b[0m\u001b[1;33m\u001b[0m\u001b[0m\n",
      "\u001b[1;32mE:\\zthel\\Documents\\ANACONDA\\lib\\site-packages\\numba\\core\\config.py\u001b[0m in \u001b[0;36m<module>\u001b[1;34m\u001b[0m\n\u001b[0;32m     14\u001b[0m \u001b[1;33m\u001b[0m\u001b[0m\n\u001b[0;32m     15\u001b[0m \u001b[1;33m\u001b[0m\u001b[0m\n\u001b[1;32m---> 16\u001b[1;33m \u001b[1;32mimport\u001b[0m \u001b[0mllvmlite\u001b[0m\u001b[1;33m.\u001b[0m\u001b[0mbinding\u001b[0m \u001b[1;32mas\u001b[0m \u001b[0mll\u001b[0m\u001b[1;33m\u001b[0m\u001b[1;33m\u001b[0m\u001b[0m\n\u001b[0m\u001b[0;32m     17\u001b[0m \u001b[1;33m\u001b[0m\u001b[0m\n\u001b[0;32m     18\u001b[0m \u001b[0mIS_WIN32\u001b[0m \u001b[1;33m=\u001b[0m \u001b[0msys\u001b[0m\u001b[1;33m.\u001b[0m\u001b[0mplatform\u001b[0m\u001b[1;33m.\u001b[0m\u001b[0mstartswith\u001b[0m\u001b[1;33m(\u001b[0m\u001b[1;34m'win32'\u001b[0m\u001b[1;33m)\u001b[0m\u001b[1;33m\u001b[0m\u001b[1;33m\u001b[0m\u001b[0m\n",
      "\u001b[1;32mE:\\zthel\\Documents\\ANACONDA\\lib\\site-packages\\llvmlite\\binding\\__init__.py\u001b[0m in \u001b[0;36m<module>\u001b[1;34m\u001b[0m\n\u001b[0;32m      2\u001b[0m \u001b[0mThings\u001b[0m \u001b[0mthat\u001b[0m \u001b[0mrely\u001b[0m \u001b[0mon\u001b[0m \u001b[0mthe\u001b[0m \u001b[0mLLVM\u001b[0m \u001b[0mlibrary\u001b[0m\u001b[1;33m\u001b[0m\u001b[1;33m\u001b[0m\u001b[0m\n\u001b[0;32m      3\u001b[0m \"\"\"\n\u001b[1;32m----> 4\u001b[1;33m \u001b[1;32mfrom\u001b[0m \u001b[1;33m.\u001b[0m\u001b[0mdylib\u001b[0m \u001b[1;32mimport\u001b[0m \u001b[1;33m*\u001b[0m\u001b[1;33m\u001b[0m\u001b[1;33m\u001b[0m\u001b[0m\n\u001b[0m\u001b[0;32m      5\u001b[0m \u001b[1;32mfrom\u001b[0m \u001b[1;33m.\u001b[0m\u001b[0mexecutionengine\u001b[0m \u001b[1;32mimport\u001b[0m \u001b[1;33m*\u001b[0m\u001b[1;33m\u001b[0m\u001b[1;33m\u001b[0m\u001b[0m\n\u001b[0;32m      6\u001b[0m \u001b[1;32mfrom\u001b[0m \u001b[1;33m.\u001b[0m\u001b[0minitfini\u001b[0m \u001b[1;32mimport\u001b[0m \u001b[1;33m*\u001b[0m\u001b[1;33m\u001b[0m\u001b[1;33m\u001b[0m\u001b[0m\n",
      "\u001b[1;32mE:\\zthel\\Documents\\ANACONDA\\lib\\site-packages\\llvmlite\\binding\\dylib.py\u001b[0m in \u001b[0;36m<module>\u001b[1;34m\u001b[0m\n\u001b[0;32m      1\u001b[0m \u001b[1;32mfrom\u001b[0m \u001b[0mctypes\u001b[0m \u001b[1;32mimport\u001b[0m \u001b[0mc_void_p\u001b[0m\u001b[1;33m,\u001b[0m \u001b[0mc_char_p\u001b[0m\u001b[1;33m,\u001b[0m \u001b[0mc_bool\u001b[0m\u001b[1;33m,\u001b[0m \u001b[0mPOINTER\u001b[0m\u001b[1;33m\u001b[0m\u001b[1;33m\u001b[0m\u001b[0m\n\u001b[0;32m      2\u001b[0m \u001b[1;33m\u001b[0m\u001b[0m\n\u001b[1;32m----> 3\u001b[1;33m \u001b[1;32mfrom\u001b[0m \u001b[0mllvmlite\u001b[0m\u001b[1;33m.\u001b[0m\u001b[0mbinding\u001b[0m \u001b[1;32mimport\u001b[0m \u001b[0mffi\u001b[0m\u001b[1;33m\u001b[0m\u001b[1;33m\u001b[0m\u001b[0m\n\u001b[0m\u001b[0;32m      4\u001b[0m \u001b[1;32mfrom\u001b[0m \u001b[0mllvmlite\u001b[0m\u001b[1;33m.\u001b[0m\u001b[0mbinding\u001b[0m\u001b[1;33m.\u001b[0m\u001b[0mcommon\u001b[0m \u001b[1;32mimport\u001b[0m \u001b[0m_encode_string\u001b[0m\u001b[1;33m\u001b[0m\u001b[1;33m\u001b[0m\u001b[0m\n\u001b[0;32m      5\u001b[0m \u001b[1;33m\u001b[0m\u001b[0m\n",
      "\u001b[1;32mE:\\zthel\\Documents\\ANACONDA\\lib\\site-packages\\llvmlite\\binding\\ffi.py\u001b[0m in \u001b[0;36m<module>\u001b[1;34m\u001b[0m\n\u001b[0;32m    151\u001b[0m         \u001b[1;32mbreak\u001b[0m\u001b[1;33m\u001b[0m\u001b[1;33m\u001b[0m\u001b[0m\n\u001b[0;32m    152\u001b[0m \u001b[1;32melse\u001b[0m\u001b[1;33m:\u001b[0m\u001b[1;33m\u001b[0m\u001b[1;33m\u001b[0m\u001b[0m\n\u001b[1;32m--> 153\u001b[1;33m     \u001b[1;32mraise\u001b[0m \u001b[0mOSError\u001b[0m\u001b[1;33m(\u001b[0m\u001b[1;34m\"Could not load shared object file: {}\"\u001b[0m\u001b[1;33m.\u001b[0m\u001b[0mformat\u001b[0m\u001b[1;33m(\u001b[0m\u001b[0m_lib_name\u001b[0m\u001b[1;33m)\u001b[0m\u001b[1;33m)\u001b[0m\u001b[1;33m\u001b[0m\u001b[1;33m\u001b[0m\u001b[0m\n\u001b[0m\u001b[0;32m    154\u001b[0m \u001b[1;33m\u001b[0m\u001b[0m\n\u001b[0;32m    155\u001b[0m \u001b[1;33m\u001b[0m\u001b[0m\n",
      "\u001b[1;31mOSError\u001b[0m: Could not load shared object file: llvmlite.dll"
     ]
    }
   ],
   "source": [
    "#imports\n",
    "import k3d\n",
    "from math import sqrt,sin,pi\n",
    "import numpy as np\n",
    "#from ipywidgets import interact, interactive, interact_manual, interactive_output\n",
    "import ipywidgets as widgets\n",
    "from IPython.display import display, clear_output\n",
    "from numpy import exp\n",
    "from numba import jit"
   ]
  },
  {
   "cell_type": "code",
   "execution_count": null,
   "metadata": {
    "ExecuteTime": {
     "end_time": "2020-11-18T21:28:16.740348Z",
     "start_time": "2020-11-18T21:28:15.576Z"
    },
    "code_folding": [],
    "slideshow": {
     "slide_type": "fragment"
    }
   },
   "outputs": [],
   "source": [
    "#Graph limits\n",
    "side = 100.0           #Sides of the square in cm\n",
    "xmin, xmax = 0, 500    #x_Limit\n",
    "ymin, ymax = 0, 500    #Y_Limit\n",
    "#Global variables\n",
    "GRAPH = None           #funtion grid\n",
    "plt_surface = None     #platform grid\n",
    "#Animation variables\n",
    "fps = 20               #framerate\n"
   ]
  },
  {
   "cell_type": "code",
   "execution_count": null,
   "metadata": {
    "ExecuteTime": {
     "end_time": "2020-11-18T21:28:16.742851Z",
     "start_time": "2020-11-18T21:28:15.579Z"
    },
    "code_folding": [],
    "slideshow": {
     "slide_type": "slide"
    }
   },
   "outputs": [],
   "source": [
    "# default parameters\n",
    "@jit\n",
    "def pebbles( frame_index= 0, wavelength=  5.0,\n",
    "         v = 10.0,\n",
    "        h0 = 40.0,\n",
    "        x1 = 50.0,y1 = 50.0,\n",
    "\n",
    "        Resolution = 250):\n",
    "    global GRAPH\n",
    "\n",
    "    # Calculations relevant to waves\n",
    "    t = frame_index / fps\n",
    "    k = 2*pi/wavelength\n",
    "   \n",
    "    spacing=side/Resolution\n",
    "    # Define graph\n",
    "    GRAPH = np.empty([Resolution, Resolution])\n",
    "    for j in range(Resolution): \n",
    "        y = spacing*j\n",
    "        for i in range(Resolution): \n",
    "            x = spacing*i\n",
    "           \n",
    "            r1 = ((x-x1)**2+(y-y1)**2)**0.5\n",
    "#            r2 = ((x-x2)**2+(y-y2)**2)**0.5\n",
    "#            r3 = ((x-x3)**2+(y-y3)**2)**0.5\n",
    "            if r1 == 0:\n",
    "                r1 = 10**-10\n",
    "            #add the '-vt' into wave funtion to promote propagation\n",
    "            GRAPH[j,i] = sin(k*r1-v*t) * h0/(k*r1-v*t)*exp(-r1*t*.01) #+ sin(k*r2-v*t) * h0 + sin(k*r3-v*t) * h0\n",
    "    #Update\n",
    "    if plt_surface:\n",
    "        plt_surface.heights = GRAPH "
   ]
  },
  {
   "cell_type": "code",
   "execution_count": null,
   "metadata": {
    "ExecuteTime": {
     "end_time": "2020-11-18T21:28:16.745353Z",
     "start_time": "2020-11-18T21:28:15.582Z"
    },
    "code_folding": []
   },
   "outputs": [],
   "source": [
    "@jit\n",
    "def pebbles2( frame_index= 0, wavelength=  5.0,\n",
    "         v = 10.0,\n",
    "        h0 = 40.0,\n",
    "        x1 = 75.0,y1 = 25.0,\n",
    "        x2 = 25.0,y2 = 75.0,\n",
    "        Resolution = 250):\n",
    "    global GRAPH\n",
    "\n",
    "    # Calculations relevant to waves\n",
    "    t = frame_index / fps\n",
    "    k = 2*pi/wavelength\n",
    "   \n",
    "    spacing=side/Resolution\n",
    "    # Define graph\n",
    "    GRAPH = np.empty([Resolution, Resolution])\n",
    "    for j in range(Resolution): \n",
    "        y = spacing*j\n",
    "        for i in range(Resolution): \n",
    "            x = spacing*i\n",
    "           \n",
    "            r1 = ((x-x1)**2+(y-y1)**2)**0.5\n",
    "            r2 = ((x-x2)**2+(y-y2)**2)**0.5\n",
    "#            r3 = ((x-x3)**2+(y-y3)**2)**0.5\n",
    "            if r1 == 0:\n",
    "                r1 = 10**-10.0\n",
    "            if r2 == 0:\n",
    "                r2 = 10**-10.0\n",
    "\n",
    "            #add the '-vt' into wave funtion to promote propagation\n",
    "            GRAPH[j,i] = sin(k*r1-v*t) * h0/(k*r1-v*t)*exp(-r1*t*.01) + sin(k*r2-v*t) * h0/(k*r2-v*t)*exp(-r2*t*.01) #+ sin(k*r3-v*t) * h0\n",
    "    #Update\n",
    "    if plt_surface:\n",
    "        plt_surface.heights = GRAPH "
   ]
  },
  {
   "cell_type": "code",
   "execution_count": null,
   "metadata": {
    "ExecuteTime": {
     "end_time": "2020-11-18T21:28:16.748374Z",
     "start_time": "2020-11-18T21:28:15.585Z"
    },
    "code_folding": []
   },
   "outputs": [],
   "source": [
    "@jit\n",
    "def pebbles3( frame_index= 0, wavelength=  5.0,\n",
    "         v = 5.0,\n",
    "        h0 = 40.0,\n",
    "        x1 = 50.0,y1 = 50.0,\n",
    "        x2 = 25.0,y2 = 75.0,\n",
    "        x3 = 75.0,y3 = 25.0,\n",
    "        Resolution = 250):\n",
    "    global GRAPH\n",
    "\n",
    "    # Calculations relevant to waves\n",
    "    t = frame_index / fps\n",
    "    k = 2*pi/wavelength\n",
    "   \n",
    "    spacing=side/Resolution\n",
    "    # Define graph\n",
    "    GRAPH = np.empty([Resolution, Resolution])\n",
    "    for j in range(Resolution): \n",
    "        y = spacing*j\n",
    "        for i in range(Resolution): \n",
    "            x = spacing*i\n",
    "           \n",
    "            r1 = ((x-x1)**2+(y-y1)**2)**0.5\n",
    "            r2 = ((x-x2)**2+(y-y2)**2)**0.5\n",
    "            r3 = ((x-x3)**2+(y-y3)**2)**0.5\n",
    "            if r1 == 0:\n",
    "                r1 = 10**-10.0\n",
    "            if r2 == 0:\n",
    "                r2 = 10**-10.0\n",
    "            if r3 == 0:\n",
    "                r3 = 10**-10.0\n",
    "            #add the '-vt' into wave funtion to promote propagation\n",
    "            GRAPH[j,i] = sin(k*r1-v*t) * h0/(k*r1-v*t)*exp(-r1*t*.01) + sin(k*r2-v*t) * h0/(k*r2-v*t)*exp(-r2*t*.01) + sin(k*r3-v*t) * h0/(k*r3-v*t)*exp(-r3*t*.01)\n",
    "    #Update\n",
    "    if plt_surface:\n",
    "        plt_surface.heights = GRAPH "
   ]
  },
  {
   "cell_type": "code",
   "execution_count": null,
   "metadata": {
    "ExecuteTime": {
     "start_time": "2020-11-18T21:38:24.747Z"
    },
    "code_folding": [],
    "scrolled": true,
    "slideshow": {
     "slide_type": "slide"
    }
   },
   "outputs": [],
   "source": [
    "play = widgets.Play(\n",
    "    value= 50,\n",
    "    min  = 0,\n",
    "    max  = 150,\n",
    "    step = 0.1,\n",
    "    description = \"Press play\",\n",
    "    disabled = False )\n",
    "\n",
    "#play button\n",
    "play_slider = widgets.IntSlider()\n",
    "widgets.jslink((play, 'value'), (play_slider, 'value'))\n",
    "play_ui = widgets.HBox([play, play_slider])\n",
    "display(play_ui)\n",
    "\n",
    "#wave controls\n",
    "ask = int(input(\"How may pebble(s) do you want to throw? [Enter value: 1  2  or 3 ]: \"))\n",
    "#@jit\n",
    "if ask == 1: \n",
    "    C= widgets.interactive(pebbles,\n",
    "            frame_index= play_slider,\n",
    "            Resolution = (10, 500),\n",
    "            wavelength = (0., 20.),\n",
    "            v =(0., 20.),\n",
    "            h0=(0., 50.),\n",
    "                            \n",
    "            x1=(0., side),y1=(0., side))\n",
    "elif ask== 2:\n",
    "    C= widgets.interactive(pebbles2,\n",
    "           frame_index= play_slider,\n",
    "           Resolution = (10, 500),\n",
    "          wavelength = (0., 20.),\n",
    "           v =(0., 20.),\n",
    "           h0=(0., 50.),\n",
    "                      \n",
    "           x1=(0., side),y1=(0., side),\n",
    "           x2=(0., side),y2=(0., side))\n",
    "else:\n",
    "    C= widgets.interactive(pebbles3,\n",
    "           frame_index= play_slider,\n",
    "           Resolution = (10, 500),\n",
    "           wavelength = (0., 20.),\n",
    "           v =(0., 20.),\n",
    "           h0=(0., 50.),\n",
    "                 \n",
    "           x1=(0., side),y1=(0., side),\n",
    "           x2=(0., side),y2=(0., side),\n",
    "           x3=(0., side),y3=(0., side))\n",
    "#@jit\n",
    "display(C)\n",
    "\n",
    "\n",
    "# k3d plots\n",
    "plot = k3d.plot()\n",
    "plt_surface = k3d.surface(GRAPH, bounds=[xmin,xmax,ymin,ymax])\n",
    "plt_surface.heights = GRAPH\n",
    "plot += plt_surface\n",
    "plot.display()"
   ]
  },
  {
   "cell_type": "code",
   "execution_count": null,
   "metadata": {},
   "outputs": [],
   "source": []
  },
  {
   "cell_type": "code",
   "execution_count": null,
   "metadata": {},
   "outputs": [],
   "source": []
  }
 ],
 "metadata": {
  "kernelspec": {
   "display_name": "Python 3",
   "language": "python",
   "name": "python3"
  },
  "language_info": {
   "codemirror_mode": {
    "name": "ipython",
    "version": 3
   },
   "file_extension": ".py",
   "mimetype": "text/x-python",
   "name": "python",
   "nbconvert_exporter": "python",
   "pygments_lexer": "ipython3",
   "version": "3.8.3"
  },
  "toc": {
   "base_numbering": 1,
   "nav_menu": {},
   "number_sections": true,
   "sideBar": true,
   "skip_h1_title": false,
   "title_cell": "Table of Contents",
   "title_sidebar": "Contents",
   "toc_cell": false,
   "toc_position": {},
   "toc_section_display": true,
   "toc_window_display": false
  },
  "varInspector": {
   "cols": {
    "lenName": 16,
    "lenType": 16,
    "lenVar": 40
   },
   "kernels_config": {
    "python": {
     "delete_cmd_postfix": "",
     "delete_cmd_prefix": "del ",
     "library": "var_list.py",
     "varRefreshCmd": "print(var_dic_list())"
    },
    "r": {
     "delete_cmd_postfix": ") ",
     "delete_cmd_prefix": "rm(",
     "library": "var_list.r",
     "varRefreshCmd": "cat(var_dic_list()) "
    }
   },
   "types_to_exclude": [
    "module",
    "function",
    "builtin_function_or_method",
    "instance",
    "_Feature"
   ],
   "window_display": false
  }
 },
 "nbformat": 4,
 "nbformat_minor": 4
}
