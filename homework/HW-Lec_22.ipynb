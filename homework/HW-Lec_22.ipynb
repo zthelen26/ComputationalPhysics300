{
 "cells": [
  {
   "cell_type": "code",
   "execution_count": 188,
   "metadata": {
    "ExecuteTime": {
     "end_time": "2020-11-23T18:56:22.747336Z",
     "start_time": "2020-11-23T18:56:22.742842Z"
    }
   },
   "outputs": [],
   "source": [
    "from pandas import read_csv\n",
    "from pandas.plotting import scatter_matrix\n",
    "#from matplotlib import pyplot\n",
    "#from sklearn.model_selection import train_test_split\n",
    "#from sklearn.model_selection import cross_val_score\n",
    "from sklearn.model_selection import StratifiedKFold\n",
    "from sklearn.metrics import classification_report\n",
    "from sklearn.metrics import confusion_matrix\n",
    "from sklearn.metrics import accuracy_score\n",
    "#from sklearn.linear_model import LogisticRegression\n",
    "#from sklearn.tree import DecisionTreeClassifier\n",
    "#from sklearn.neighbors import KNeighborsClassifier\n",
    "#from sklearn.discriminant_analysis import LinearDiscriminantAnalysis\n",
    "#from sklearn.naive_bayes import GaussianNB\n",
    "#from sklearn.svm import SVC\n",
    "from sklearn.model_selection import train_test_split\n",
    "from sklearn.neighbors import KNeighborsClassifier\n",
    "import numpy as np\n",
    "from sklearn.model_selection import cross_val_score\n",
    "import warnings\n",
    "import matplotlib.pyplot as plt\n"
   ]
  },
  {
   "cell_type": "code",
   "execution_count": 189,
   "metadata": {
    "ExecuteTime": {
     "end_time": "2020-11-23T18:56:23.273917Z",
     "start_time": "2020-11-23T18:56:22.949713Z"
    }
   },
   "outputs": [],
   "source": [
    "# Load dataset\n",
    "url = \"https://archive.ics.uci.edu/ml/machine-learning-databases/wine/wine.data\"\n",
    "names = ['Alcohol', 'Malic acid', 'Ash', 'Alcalinity of ash', 'Magnesium','Total phenols','Flavanoids','Nonflavanoid phenols','Proanthocyanins', 'Color intesity','Hue','OD280/OD315 of diluted wines','Proline']\n",
    "dataset = read_csv(url, names=names)\n",
    "#from sklearn.datasets import load_wine\n",
    "#dataset = load_wine()\n",
    "#X = dataset.data\n",
    "#Y = dataset.target"
   ]
  },
  {
   "cell_type": "code",
   "execution_count": 190,
   "metadata": {
    "ExecuteTime": {
     "end_time": "2020-11-23T18:56:23.347883Z",
     "start_time": "2020-11-23T18:56:23.338382Z"
    }
   },
   "outputs": [
    {
     "name": "stdout",
     "output_type": "stream",
     "text": [
      "(178, 13)\n",
      "   Alcohol  Malic acid   Ash  Alcalinity of ash  Magnesium  Total phenols  \\\n",
      "1    14.23        1.71  2.43               15.6        127           2.80   \n",
      "1    13.20        1.78  2.14               11.2        100           2.65   \n",
      "1    13.16        2.36  2.67               18.6        101           2.80   \n",
      "1    14.37        1.95  2.50               16.8        113           3.85   \n",
      "1    13.24        2.59  2.87               21.0        118           2.80   \n",
      "1    14.20        1.76  2.45               15.2        112           3.27   \n",
      "1    14.39        1.87  2.45               14.6         96           2.50   \n",
      "1    14.06        2.15  2.61               17.6        121           2.60   \n",
      "1    14.83        1.64  2.17               14.0         97           2.80   \n",
      "1    13.86        1.35  2.27               16.0         98           2.98   \n",
      "1    14.10        2.16  2.30               18.0        105           2.95   \n",
      "1    14.12        1.48  2.32               16.8         95           2.20   \n",
      "1    13.75        1.73  2.41               16.0         89           2.60   \n",
      "1    14.75        1.73  2.39               11.4         91           3.10   \n",
      "1    14.38        1.87  2.38               12.0        102           3.30   \n",
      "1    13.63        1.81  2.70               17.2        112           2.85   \n",
      "1    14.30        1.92  2.72               20.0        120           2.80   \n",
      "1    13.83        1.57  2.62               20.0        115           2.95   \n",
      "1    14.19        1.59  2.48               16.5        108           3.30   \n",
      "1    13.64        3.10  2.56               15.2        116           2.70   \n",
      "\n",
      "   Flavanoids  Nonflavanoid phenols  Proanthocyanins  Color intesity   Hue  \\\n",
      "1        3.06                  0.28             2.29            5.64  1.04   \n",
      "1        2.76                  0.26             1.28            4.38  1.05   \n",
      "1        3.24                  0.30             2.81            5.68  1.03   \n",
      "1        3.49                  0.24             2.18            7.80  0.86   \n",
      "1        2.69                  0.39             1.82            4.32  1.04   \n",
      "1        3.39                  0.34             1.97            6.75  1.05   \n",
      "1        2.52                  0.30             1.98            5.25  1.02   \n",
      "1        2.51                  0.31             1.25            5.05  1.06   \n",
      "1        2.98                  0.29             1.98            5.20  1.08   \n",
      "1        3.15                  0.22             1.85            7.22  1.01   \n",
      "1        3.32                  0.22             2.38            5.75  1.25   \n",
      "1        2.43                  0.26             1.57            5.00  1.17   \n",
      "1        2.76                  0.29             1.81            5.60  1.15   \n",
      "1        3.69                  0.43             2.81            5.40  1.25   \n",
      "1        3.64                  0.29             2.96            7.50  1.20   \n",
      "1        2.91                  0.30             1.46            7.30  1.28   \n",
      "1        3.14                  0.33             1.97            6.20  1.07   \n",
      "1        3.40                  0.40             1.72            6.60  1.13   \n",
      "1        3.93                  0.32             1.86            8.70  1.23   \n",
      "1        3.03                  0.17             1.66            5.10  0.96   \n",
      "\n",
      "   OD280/OD315 of diluted wines  Proline  \n",
      "1                          3.92     1065  \n",
      "1                          3.40     1050  \n",
      "1                          3.17     1185  \n",
      "1                          3.45     1480  \n",
      "1                          2.93      735  \n",
      "1                          2.85     1450  \n",
      "1                          3.58     1290  \n",
      "1                          3.58     1295  \n",
      "1                          2.85     1045  \n",
      "1                          3.55     1045  \n",
      "1                          3.17     1510  \n",
      "1                          2.82     1280  \n",
      "1                          2.90     1320  \n",
      "1                          2.73     1150  \n",
      "1                          3.00     1547  \n",
      "1                          2.88     1310  \n",
      "1                          2.65     1280  \n",
      "1                          2.57     1130  \n",
      "1                          2.82     1680  \n",
      "1                          3.36      845  \n"
     ]
    }
   ],
   "source": [
    "# shape\n",
    "print(dataset.shape)\n",
    "# descriptions\n",
    "print(dataset.head(20))"
   ]
  },
  {
   "cell_type": "code",
   "execution_count": 191,
   "metadata": {
    "ExecuteTime": {
     "end_time": "2020-11-23T18:56:23.418379Z",
     "start_time": "2020-11-23T18:56:23.413880Z"
    }
   },
   "outputs": [],
   "source": [
    "array = dataset.values\n",
    "X = array[:,0:12]\n",
    "y = array[:,12]\n",
    "X_train, X_validation, Y_train, Y_validation = train_test_split(X, y, test_size=0.20, random_state=1)"
   ]
  },
  {
   "cell_type": "code",
   "execution_count": 192,
   "metadata": {
    "ExecuteTime": {
     "end_time": "2020-11-23T18:56:23.485886Z",
     "start_time": "2020-11-23T18:56:23.481389Z"
    }
   },
   "outputs": [],
   "source": [
    "X_train, X_test, y_train, y_test = train_test_split(X, Y)"
   ]
  },
  {
   "cell_type": "code",
   "execution_count": 193,
   "metadata": {
    "ExecuteTime": {
     "end_time": "2020-11-23T18:56:23.583856Z",
     "start_time": "2020-11-23T18:56:23.580358Z"
    }
   },
   "outputs": [],
   "source": [
    "estimator = KNeighborsClassifier()"
   ]
  },
  {
   "cell_type": "code",
   "execution_count": 194,
   "metadata": {
    "ExecuteTime": {
     "end_time": "2020-11-23T18:56:23.747275Z",
     "start_time": "2020-11-23T18:56:23.739763Z"
    }
   },
   "outputs": [
    {
     "name": "stdout",
     "output_type": "stream",
     "text": [
      "The accuracy is 73.3%\n"
     ]
    }
   ],
   "source": [
    "estimator.fit(X_train, y_train)\n",
    "y_predicted = estimator.predict(X_test)\n",
    "\n",
    "#test the accuracy\n",
    "accuracy = np.mean(y_test == y_predicted) *100\n",
    "print(\"The accuracy is {0:.1f}%\".format(accuracy))\n"
   ]
  },
  {
   "cell_type": "code",
   "execution_count": 195,
   "metadata": {
    "ExecuteTime": {
     "end_time": "2020-11-23T18:56:23.916233Z",
     "start_time": "2020-11-23T18:56:23.898738Z"
    }
   },
   "outputs": [
    {
     "name": "stdout",
     "output_type": "stream",
     "text": [
      "The accuracy is 82.0%\n"
     ]
    }
   ],
   "source": [
    "\n",
    "scores = cross_val_score(estimator, X, Y, scoring = 'accuracy')\n",
    "average_accuracy = np.mean(scores)*100\n",
    "print(\"The accuracy is {0:.1f}%\".format(average_accuracy))"
   ]
  },
  {
   "cell_type": "code",
   "execution_count": 196,
   "metadata": {
    "ExecuteTime": {
     "end_time": "2020-11-23T18:56:24.304096Z",
     "start_time": "2020-11-23T18:56:24.075643Z"
    }
   },
   "outputs": [],
   "source": [
    "\n",
    "warnings.filterwarnings('ignore')\n",
    "\n",
    "avg_scores = []\n",
    "all_scores = []\n",
    "parameters = list(range(1,20))\n",
    "for n_neighbors in parameters:\n",
    "    estimator = KNeighborsClassifier()\n",
    "    scores = cross_val_score(estimator, X, Y, scoring = 'accuracy')\n",
    "    avg_scores.append(np.mean(scores))\n",
    "    all_scores.append(scores)"
   ]
  },
  {
   "cell_type": "code",
   "execution_count": 197,
   "metadata": {
    "ExecuteTime": {
     "end_time": "2020-11-23T18:56:24.503501Z",
     "start_time": "2020-11-23T18:56:24.359074Z"
    }
   },
   "outputs": [
    {
     "data": {
      "image/png": "[encoded data removed]",
      "text/plain": [
       "<Figure size 432x288 with 1 Axes>"
      ]
     },
     "metadata": {
      "needs_background": "light"
     },
     "output_type": "display_data"
    }
   ],
   "source": [
    "\n",
    "%matplotlib inline\n",
    "\n",
    "plt.plot(parameters, avg_scores, '-o')\n",
    "plt.xlabel('N-Neighbour')\n",
    "plt.ylabel('Accuracy')\n",
    "plt.ylim([0.6,1.0])\n",
    "\n",
    "plt.show()"
   ]
  },
  {
   "cell_type": "code",
   "execution_count": 198,
   "metadata": {
    "ExecuteTime": {
     "end_time": "2020-11-23T18:56:24.576955Z",
     "start_time": "2020-11-23T18:56:24.559468Z"
    }
   },
   "outputs": [
    {
     "name": "stdout",
     "output_type": "stream",
     "text": [
      "0.08333333333333333\n",
      "[[0 0 0 0 0 0 0 0 0 0 0 0 1 0 0 0 0 0 0 0 0 0 0 0 0 0 0]\n",
      " [0 0 0 0 0 0 0 0 0 0 1 0 0 0 0 0 0 0 0 0 0 0 0 0 0 0 0]\n",
      " [0 0 1 1 0 0 0 0 0 0 0 0 0 0 0 0 0 0 0 0 0 0 0 0 0 0 0]\n",
      " [0 0 1 2 0 0 0 0 0 0 0 0 0 0 0 0 0 0 0 0 0 0 0 0 0 0 0]\n",
      " [0 0 0 0 0 0 0 0 0 0 0 0 1 0 0 0 0 0 0 0 0 0 0 0 0 0 0]\n",
      " [0 1 0 0 0 0 0 0 0 0 0 0 0 0 0 0 0 0 0 0 0 0 0 0 0 0 0]\n",
      " [0 0 1 0 0 0 0 0 0 0 0 0 0 0 0 0 0 0 0 0 0 0 0 0 0 0 0]\n",
      " [0 0 0 1 0 0 0 0 0 0 0 0 0 0 0 0 0 1 0 0 0 0 0 0 0 0 0]\n",
      " [0 0 0 0 0 0 0 0 0 0 0 0 0 0 0 0 0 1 0 0 0 0 0 0 0 0 0]\n",
      " [0 0 1 0 0 0 0 0 0 0 1 0 0 0 0 0 0 0 0 0 0 0 0 0 0 0 0]\n",
      " [0 0 0 1 0 0 0 0 0 0 0 0 0 0 0 0 0 0 0 0 0 0 0 0 0 0 0]\n",
      " [0 0 0 0 0 0 0 0 0 1 0 0 0 0 0 0 0 0 0 0 0 0 0 0 0 0 0]\n",
      " [0 0 0 0 0 0 0 0 0 0 2 0 0 0 0 0 0 0 0 0 0 0 0 0 0 0 0]\n",
      " [0 0 0 1 0 0 0 0 0 0 0 0 0 0 0 0 0 0 0 0 0 0 0 0 0 0 0]\n",
      " [0 0 1 0 0 0 0 0 0 0 0 0 0 0 0 0 0 0 0 0 0 0 0 0 0 0 0]\n",
      " [0 0 1 0 0 0 0 0 0 0 0 0 1 0 0 0 0 0 0 0 0 0 0 0 0 0 0]\n",
      " [0 0 0 1 0 0 0 0 0 0 0 0 0 0 0 0 0 0 0 0 0 0 0 0 0 0 0]\n",
      " [0 0 0 0 0 0 0 0 0 0 0 0 1 0 0 0 0 0 0 0 0 0 0 0 0 0 0]\n",
      " [0 1 0 0 0 0 0 0 0 0 1 0 0 0 0 0 0 0 0 0 0 0 0 0 0 0 0]\n",
      " [0 0 0 0 0 0 0 0 0 0 0 0 0 0 0 0 0 1 0 0 0 0 0 0 0 0 0]\n",
      " [0 0 0 1 0 0 0 0 0 0 0 0 0 1 0 0 0 0 0 0 0 0 0 0 0 0 0]\n",
      " [0 0 0 0 0 0 0 0 0 0 1 0 0 0 0 0 0 0 0 0 0 0 0 0 0 0 0]\n",
      " [0 0 0 1 0 0 0 0 0 0 0 0 0 0 0 0 0 0 0 0 0 0 0 0 0 0 0]\n",
      " [0 0 0 0 0 0 0 0 0 1 0 0 0 0 0 0 0 0 0 0 0 0 0 0 0 0 0]\n",
      " [0 0 0 1 0 0 0 0 0 0 0 0 0 0 0 0 0 0 0 0 0 0 0 0 0 0 0]\n",
      " [0 0 0 1 0 0 0 0 0 0 0 0 0 0 0 0 0 0 0 0 0 0 0 0 0 0 0]\n",
      " [0 0 0 0 0 0 0 0 0 0 1 0 0 0 0 0 0 0 0 0 0 0 0 0 0 0 0]]\n",
      "              precision    recall  f1-score   support\n",
      "\n",
      "        84.0       0.00      0.00      0.00         1\n",
      "        85.0       0.00      0.00      0.00         1\n",
      "        86.0       0.17      0.50      0.25         2\n",
      "        88.0       0.18      0.67      0.29         3\n",
      "        89.0       0.00      0.00      0.00         1\n",
      "        90.0       0.00      0.00      0.00         1\n",
      "        92.0       0.00      0.00      0.00         1\n",
      "        94.0       0.00      0.00      0.00         2\n",
      "        95.0       0.00      0.00      0.00         1\n",
      "        96.0       0.00      0.00      0.00         2\n",
      "        98.0       0.00      0.00      0.00         1\n",
      "       100.0       0.00      0.00      0.00         1\n",
      "       101.0       0.00      0.00      0.00         2\n",
      "       102.0       0.00      0.00      0.00         1\n",
      "       103.0       0.00      0.00      0.00         1\n",
      "       106.0       0.00      0.00      0.00         2\n",
      "       107.0       0.00      0.00      0.00         1\n",
      "       108.0       0.00      0.00      0.00         1\n",
      "       112.0       0.00      0.00      0.00         2\n",
      "       115.0       0.00      0.00      0.00         1\n",
      "       116.0       0.00      0.00      0.00         2\n",
      "       117.0       0.00      0.00      0.00         1\n",
      "       118.0       0.00      0.00      0.00         1\n",
      "       120.0       0.00      0.00      0.00         1\n",
      "       122.0       0.00      0.00      0.00         1\n",
      "       139.0       0.00      0.00      0.00         1\n",
      "       151.0       0.00      0.00      0.00         1\n",
      "\n",
      "    accuracy                           0.08        36\n",
      "   macro avg       0.01      0.04      0.02        36\n",
      "weighted avg       0.02      0.08      0.04        36\n",
      "\n"
     ]
    }
   ],
   "source": [
    "# Split-out validation dataset\n",
    "array = dataset.values\n",
    "X = array[:,0:4]\n",
    "y = array[:,4]\n",
    "X_train, X_validation, Y_train, Y_validation = train_test_split(X, y, test_size=0.20, random_state=1)\n",
    "#Make predictions on validation dataset\n",
    "model = SVC(gamma='auto')\n",
    "model.fit(X_train, Y_train)\n",
    "predictions = model.predict(X_validation)\n",
    "\n",
    "print(accuracy_score(Y_validation, predictions))\n",
    "print(confusion_matrix(Y_validation, predictions))\n",
    "print(classification_report(Y_validation, predictions))"
   ]
  },
  {
   "cell_type": "code",
   "execution_count": null,
   "metadata": {},
   "outputs": [],
   "source": []
  },
  {
   "cell_type": "code",
   "execution_count": null,
   "metadata": {},
   "outputs": [],
   "source": []
  }
 ],
 "metadata": {
  "kernelspec": {
   "display_name": "Python 3",
   "language": "python",
   "name": "python3"
  },
  "language_info": {
   "codemirror_mode": {
    "name": "ipython",
    "version": 3
   },
   "file_extension": ".py",
   "mimetype": "text/x-python",
   "name": "python",
   "nbconvert_exporter": "python",
   "pygments_lexer": "ipython3",
   "version": "3.8.3"
  },
  "toc": {
   "base_numbering": 1,
   "nav_menu": {},
   "number_sections": true,
   "sideBar": true,
   "skip_h1_title": false,
   "title_cell": "Table of Contents",
   "title_sidebar": "Contents",
   "toc_cell": false,
   "toc_position": {},
   "toc_section_display": true,
   "toc_window_display": false
  },
  "varInspector": {
   "cols": {
    "lenName": 16,
    "lenType": 16,
    "lenVar": 40
   },
   "kernels_config": {
    "python": {
     "delete_cmd_postfix": "",
     "delete_cmd_prefix": "del ",
     "library": "var_list.py",
     "varRefreshCmd": "print(var_dic_list())"
    },
    "r": {
     "delete_cmd_postfix": ") ",
     "delete_cmd_prefix": "rm(",
     "library": "var_list.r",
     "varRefreshCmd": "cat(var_dic_list()) "
    }
   },
   "types_to_exclude": [
    "module",
    "function",
    "builtin_function_or_method",
    "instance",
    "_Feature"
   ],
   "window_display": false
  }
 },
 "nbformat": 4,
 "nbformat_minor": 4
}
