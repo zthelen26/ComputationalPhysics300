{
 "cells": [
  {
   "cell_type": "code",
   "execution_count": null,
   "metadata": {
    "scrolled": true
   },
   "outputs": [],
   "source": [
    "def Fibonacci(N):\n",
    "    fib_series = []\n",
    "    for i in range(1, N+1): \n",
    "        if len(fib_series)<=1:\n",
    "            return 1\n",
    "        else: \n",
    "            fib_series.append(b)\n",
    "            a, b = b, a + b\n",
    "    return fib_series[-1]\n",
    "\n",
    "#input code\n",
    "def Multiplicity(N,q):\n",
    "    return factor(q+N-1)/factor(q)/factor(N-1)\n",
    "\n",
    "N = int(input(\"Type a value for N: \"))\n",
    "\n",
    "for q in range(N+1):\n",
    "    print (\"when q = \", q, \"; the multiplicity is\", Multiplicity(N,q))"
   ]
  },
  {
   "cell_type": "code",
   "execution_count": 26,
   "metadata": {},
   "outputs": [
    {
     "name": "stdout",
     "output_type": "stream",
     "text": [
      "377 ns ± 6.61 ns per loop (mean ± std. dev. of 7 runs, 1000000 loops each)\n"
     ]
    }
   ],
   "source": [
    "timeit(Fibonacci(10000))"
   ]
  },
  {
   "cell_type": "code",
   "execution_count": null,
   "metadata": {
    "scrolled": true
   },
   "outputs": [],
   "source": [
    "def Fibonacci2(N):\n",
    "    fib_series = []\n",
    "    a = b = 1\n",
    "    for i in range(1, N+1): \n",
    "        if len(fib_series)<=1:\n",
    "            yield 1\n",
    "        else: \n",
    "            yield a\n",
    "            a, b = b, a + b\n",
    "            \n",
    "#imput code\n",
    "def Multiplicity(N,q):\n",
    "    return factor(q+N-1)/factor(q)/factor(N-1)\n",
    "\n",
    "N = int(input(\"Type a value for N: \"))\n",
    "\n",
    "for q in range(N+1):\n",
    "    print (\"when q = \", q, \"; the multiplicity is\", Multiplicity(N,q))\n"
   ]
  },
  {
   "cell_type": "code",
   "execution_count": 27,
   "metadata": {},
   "outputs": [
    {
     "name": "stdout",
     "output_type": "stream",
     "text": [
      "179 ns ± 0.107 ns per loop (mean ± std. dev. of 7 runs, 10000000 loops each)\n"
     ]
    }
   ],
   "source": [
    "timeit(Fibonacci2(10000))"
   ]
  },
  {
   "cell_type": "code",
   "execution_count": 28,
   "metadata": {},
   "outputs": [
    {
     "data": {
      "text/plain": [
       "328350"
      ]
     },
     "execution_count": 28,
     "metadata": {},
     "output_type": "execute_result"
    }
   ],
   "source": [
    "sum(x**2 for x in range(100))"
   ]
  },
  {
   "cell_type": "code",
   "execution_count": 30,
   "metadata": {},
   "outputs": [
    {
     "data": {
      "text/plain": [
       "328350"
      ]
     },
     "execution_count": 30,
     "metadata": {},
     "output_type": "execute_result"
    }
   ],
   "source": [
    "sum([x**2 for x in range(100)])"
   ]
  },
  {
   "cell_type": "code",
   "execution_count": null,
   "metadata": {},
   "outputs": [],
   "source": []
  }
 ],
 "metadata": {
  "kernelspec": {
   "display_name": "Python 3",
   "language": "python",
   "name": "python3"
  },
  "language_info": {
   "codemirror_mode": {
    "name": "ipython",
    "version": 3
   },
   "file_extension": ".py",
   "mimetype": "text/x-python",
   "name": "python",
   "nbconvert_exporter": "python",
   "pygments_lexer": "ipython3",
   "version": "3.8.3"
  }
 },
 "nbformat": 4,
 "nbformat_minor": 4
}
