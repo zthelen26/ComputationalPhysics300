{
 "cells": [
  {
   "cell_type": "markdown",
   "metadata": {},
   "source": [
    "1, Monte Carlo Integral\n",
    "Calculate the area shaded in greenHomework\n",
    "\n",
    "2, Error Analysis\n",
    "Try to do the intergral many times (100) for different $N$ values (100, 1000, 10000, 100000), collect the data and calculate its standard varaince."
   ]
  },
  {
   "cell_type": "code",
   "execution_count": 3,
   "metadata": {},
   "outputs": [
    {
     "data": {
      "image/png": "[encoded data removed]",
      "text/plain": [
       "<Figure size 432x288 with 1 Axes>"
      ]
     },
     "metadata": {
      "needs_background": "light"
     },
     "output_type": "display_data"
    },
    {
     "data": {
      "text/plain": [
       "<Figure size 432x288 with 0 Axes>"
      ]
     },
     "metadata": {},
     "output_type": "display_data"
    }
   ],
   "source": [
    "#from appendix 11.6\n",
    "import matplotlib.pyplot as plt\n",
    "import numpy as np\n",
    "\n",
    "fig1 = plt.figure()\n",
    "ax1 = fig1.add_subplot(111, aspect='equal')\n",
    "\n",
    "x1 = np.linspace(0,2,100)\n",
    "y1 = np.sqrt(1-(x1-1)**2) #f(x)\n",
    "ax1.plot(x1,y1,'k')\n",
    "\n",
    "y2 = 2-np.sqrt(4-x1**2)   #g(x)\n",
    "ax1.plot(x1,y2,'k')\n",
    "\n",
    "ax1.set_xlim(0,2)\n",
    "ax1.set_ylim(0,2)\n",
    "ax1.fill_between(x1, y1, y2, where=y1>y2, facecolor='green')\n",
    "\n",
    "plt.show()\n",
    "plt.savefig('MC1.png')"
   ]
  },
  {
   "cell_type": "code",
   "execution_count": 4,
   "metadata": {},
   "outputs": [],
   "source": [
    "#define functions\n",
    "def f(x):\n",
    "    return np.sqrt(1-(x-1)**2)\n",
    "def g(x):\n",
    "    return 2-np.sqrt(4-x**2)\n"
   ]
  },
  {
   "cell_type": "code",
   "execution_count": 16,
   "metadata": {},
   "outputs": [
    {
     "name": "stdout",
     "output_type": "stream",
     "text": [
      "The area of the shaded region is 0.9408000000000001\n",
      "The area of the shaded region is 0.963008\n"
     ]
    }
   ],
   "source": [
    "#define MC integration \n",
    "from random import random\n",
    "\n",
    "def MC1(N):\n",
    "    count = 0\n",
    "    for i in range(N):\n",
    "        x = 1.6*random()\n",
    "        y = random()\n",
    "        #shaded region\n",
    "        if (y<f(x)) & (y>g(x)):\n",
    "            count += 1\n",
    "    I = 1.6*count/N\n",
    "    return I\n",
    "\n",
    "#Shaded area\n",
    "print(\"The area of the shaded region is\", MC1(1000))\n",
    "print(\"The area of the shaded region is\", MC1(100000))\n"
   ]
  },
  {
   "cell_type": "code",
   "execution_count": 21,
   "metadata": {},
   "outputs": [
    {
     "name": "stdout",
     "output_type": "stream",
     "text": [
      "The Standard Variance for N = 100 is: 0.24735743999999996\n",
      "The Standard Variance for N = 1000 is: 0.02474993664000012\n",
      "The Standard Variance for N = 10000 is: 0.0024714711014399925\n",
      "The Standard Variance for N = 100000 is: 0.0002470772691129602\n",
      "The Standard Variance for N = 1000000 is: 2.4715333280499915e-05\n"
     ]
    }
   ],
   "source": [
    "#Standard Varaince (100, 1000, 10000, 100000)\n",
    "\n",
    "def variance(N):\n",
    "    mean = 0\n",
    "    p = MC1(N)/2\n",
    "    for i in range(100):\n",
    "        mean += np.sqrt((p*(1-p))/N)\n",
    "    ave = mean / 100\n",
    "    return (mean**2)/100 - ave**2\n",
    "\n",
    "print('The Standard Variance for N = 100 is:', variance(100))\n",
    "print('The Standard Variance for N = 1000 is:', variance(1000))\n",
    "print('The Standard Variance for N = 10000 is:', variance(10000))\n",
    "print('The Standard Variance for N = 100000 is:', variance(100000))\n",
    "print('The Standard Variance for N = 1000000 is:', variance(1000000))"
   ]
  },
  {
   "cell_type": "code",
   "execution_count": null,
   "metadata": {},
   "outputs": [],
   "source": []
  }
 ],
 "metadata": {
  "kernelspec": {
   "display_name": "Python 3",
   "language": "python",
   "name": "python3"
  },
  "language_info": {
   "codemirror_mode": {
    "name": "ipython",
    "version": 3
   },
   "file_extension": ".py",
   "mimetype": "text/x-python",
   "name": "python",
   "nbconvert_exporter": "python",
   "pygments_lexer": "ipython3",
   "version": "3.8.3"
  }
 },
 "nbformat": 4,
 "nbformat_minor": 4
}
