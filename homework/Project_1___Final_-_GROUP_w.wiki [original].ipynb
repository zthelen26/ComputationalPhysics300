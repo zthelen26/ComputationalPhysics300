{
 "cells": [
  {
   "cell_type": "markdown",
   "metadata": {},
   "source": [
    "# Project 1: Animation of Wave Propagation \n",
    "\n",
    "## Introduction \n",
    "\n",
    "The purpose of this project was to write a python code to provide an interactive interface to simulate the propagation of waves due to dropped pebbles in a pool. \n",
    "\n",
    "Our interface will include the following elements:\n",
    "\n",
    "1) A drop pebble button to set up the positions of multiples pebbles. \n",
    "\n",
    "2) A start buttion to initiate the animation of the wave propogation. \n",
    "\n",
    "3) A 2D/3D visualization of the propagation. \n",
    "\n",
    "4) A continue button to continue to model the wave proprogations due to two pebbles \n",
    "\n",
    "5) A stop button to terminate this simulation\n"
   ]
  },
  {
   "cell_type": "markdown",
   "metadata": {},
   "source": [
    "## Background \n",
    "\n",
    "When we drop say a pebble in a pond, it creates this ripple effect which propagates across the surface of the water: these are the waves in the water. \n",
    "\n",
    "There are essentially three different kinds of mechanical waves: \n",
    " \n",
    " -transverse mechanical waves, \n",
    " \n",
    " -longitudinal mechanical waves, and \n",
    " \n",
    " -mechanical waves which are both transverse and longitudinal in nature. \n",
    "\n",
    "A mechanical wave is a disturbance (i.e. the ripples) in a medium (i.e. water) which transports energy from one location (i.e. where the pebble landed) to another location (i.e. a leaf floating on the surface of the water). \n",
    "\n",
    "[![](http://img.youtube.com/vi/pqJzn8Y1HFw/0.jpg)](http://www.youtube.com/watch?v=pqJzn8Y1HFw \"Transverse and Longitudinal Waves\")\n"
   ]
  },
  {
   "cell_type": "markdown",
   "metadata": {},
   "source": [
    "## The Simulation\n",
    "\n",
    "Like we learned in Lecture 4:\n",
    "\n",
    "\"Suppose we drop a pebble in a pond and waves radiate out from the spot where it fell. We could create a simple representation of the physics with a sine wave, spreading out in a uniform circle, to represent the height of the waves at some later time. If the center of the circle is at $x_1$, $y_1$, then the distance $r_1$ to the center from a point $x, y$ is \n",
    "\n",
    "\n",
    "$$r_1=\\sqrt{(x-x_1)^2 + (y-y_1)^2}$$ \n",
    "\n",
    "and the sine wave for the height is\n",
    "\n",
    "\n",
    "$$h_1(x,y) = h_0\\text{sin}(kr_1)$$ \n",
    "\n",
    "where $h_0$ is the amplitude of the waves and $k$ is the wavevector, related to the wavelength $\\lambda$ by $k = 2\\pi/\\lambda$.\n",
    "\n",
    "Now suppose we drop another pebble in the pond, creating another circular set of waves with the same wavelength and amplitude but centered on a different point $x_2$, $y_2$:\n",
    "\n",
    "$$h_2(x,y) = h_0\\text{sin}(kr_2)$$ \n",
    "\n",
    "$$r_2=\\sqrt{(x-x_2)^2 + (y-y_2)^2}$$ \n",
    "\n",
    "Then, assuming the waves add linearly (which is a reasonable assumption for water waves, provided they are not too big), the total height of the surface at a point $x, y$ is\n",
    "\n",
    "$$h(x,y) = h_0\\text{sin}(kr_1) + h_0\\text{sin}(kr_2) $$\" "
   ]
  },
  {
   "cell_type": "markdown",
   "metadata": {
    "slideshow": {
     "slide_type": "slide"
    }
   },
   "source": [
    "## K3D\n",
    "For our simulation: \n",
    "\n",
    "We wanted to use Vpython (From lecture notes), but we couldn't get it to consistently run within our J-notebook. Many examples wouldn't display an image, 'least a simulation(it would work sporadically). Other solutions after a search were K3d, ipyvolume, and ffmpeg method that recently is unavailable. ipyvolume had better geometry, for this case K3D will do. "
   ]
  },
  {
   "cell_type": "markdown",
   "metadata": {},
   "source": [
    "## The Code"
   ]
  },
  {
   "cell_type": "code",
   "execution_count": 1,
   "metadata": {
    "ExecuteTime": {
     "end_time": "2020-11-18T21:43:04.531151Z",
     "start_time": "2020-11-18T21:43:04.315557Z"
    },
    "code_folding": [],
    "slideshow": {
     "slide_type": "slide"
    }
   },
   "outputs": [],
   "source": [
    "#imports\n",
    "import k3d\n",
    "from math import sqrt,sin,pi\n",
    "import numpy as np\n",
    "#from ipywidgets import interact, interactive, interact_manual, interactive_output\n",
    "import ipywidgets as widgets\n",
    "from IPython.display import display, clear_output\n",
    "from numpy import exp\n",
    "\n",
    "#from numba import jit"
   ]
  },
  {
   "cell_type": "code",
   "execution_count": 2,
   "metadata": {
    "ExecuteTime": {
     "end_time": "2020-11-18T21:43:04.537188Z",
     "start_time": "2020-11-18T21:43:04.533176Z"
    },
    "code_folding": [],
    "slideshow": {
     "slide_type": "fragment"
    }
   },
   "outputs": [],
   "source": [
    "#Graph limits\n",
    "side = 100.0           #Sides of the square in cm\n",
    "xmin, xmax = 0, 500    #x_Limit\n",
    "ymin, ymax = 0, 500    #Y_Limit\n",
    "#Global variables\n",
    "GRAPH = None           #funtion grid\n",
    "plt_surface = None     #platform grid\n",
    "#Animation variables\n",
    "fps = 20               #framerate"
   ]
  },
  {
   "cell_type": "code",
   "execution_count": 3,
   "metadata": {
    "ExecuteTime": {
     "end_time": "2020-11-18T21:43:04.546180Z",
     "start_time": "2020-11-18T21:43:04.540175Z"
    },
    "code_folding": [],
    "slideshow": {
     "slide_type": "slide"
    }
   },
   "outputs": [],
   "source": [
    "# default parameters\n",
    "#@jit\n",
    "def pebbles( frame_index= 0, wavelength=  5.0,\n",
    "         v = 10.0,\n",
    "        h0 = 40.0,\n",
    "        x1 = 50.0,y1 = 50.0,\n",
    "\n",
    "        Resolution = 250):\n",
    "    global GRAPH\n",
    "\n",
    "    # Calculations relevant to waves\n",
    "    t = frame_index / fps\n",
    "    k = 2*pi/wavelength\n",
    "   \n",
    "    spacing=side/Resolution\n",
    "    # Define graph\n",
    "    GRAPH = np.empty([Resolution, Resolution])\n",
    "    for j in range(Resolution): \n",
    "        y = spacing*j\n",
    "        for i in range(Resolution): \n",
    "            x = spacing*i\n",
    "           \n",
    "            r1 = ((x-x1)**2+(y-y1)**2)**0.5\n",
    "#            r2 = ((x-x2)**2+(y-y2)**2)**0.5\n",
    "#            r3 = ((x-x3)**2+(y-y3)**2)**0.5\n",
    "            if r1 == 0:\n",
    "                r1 = 10**-10\n",
    "            #add the '-vt' into wave funtion to promote propagation\n",
    "            GRAPH[j,i] = sin(k*r1-v*t) * h0/(k*r1-v*t)*exp(-r1*t*.01) #+ sin(k*r2-v*t) * h0 + sin(k*r3-v*t) * h0\n",
    "    #Update\n",
    "    if plt_surface:\n",
    "        plt_surface.heights = GRAPH "
   ]
  },
  {
   "cell_type": "code",
   "execution_count": 4,
   "metadata": {
    "ExecuteTime": {
     "end_time": "2020-11-18T21:43:04.556171Z",
     "start_time": "2020-11-18T21:43:04.549686Z"
    },
    "code_folding": []
   },
   "outputs": [],
   "source": [
    "##@jit\n",
    "def pebbles2( frame_index= 0, wavelength=  5.0,\n",
    "         v = 10.0,\n",
    "        h0 = 40.0,\n",
    "        x1 = 50.0,y1 = 50.0,\n",
    "        x2 = 25.0,y2 = 75.0,\n",
    "        Resolution = 250):\n",
    "    global GRAPH\n",
    "\n",
    "    # Calculations relevant to waves\n",
    "    t = frame_index / fps\n",
    "    k = 2*pi/wavelength\n",
    "   \n",
    "    spacing=side/Resolution\n",
    "    # Define graph\n",
    "    GRAPH = np.empty([Resolution, Resolution])\n",
    "    for j in range(Resolution): \n",
    "        y = spacing*j\n",
    "        for i in range(Resolution): \n",
    "            x = spacing*i\n",
    "           \n",
    "            r1 = ((x-x1)**2+(y-y1)**2)**0.5\n",
    "            r2 = ((x-x2)**2+(y-y2)**2)**0.5\n",
    "#            r3 = ((x-x3)**2+(y-y3)**2)**0.5\n",
    "            if r1 == 0:\n",
    "                r1 = 10**-10.0\n",
    "            if r2 == 0:\n",
    "                r2 = 10**-10.0\n",
    "\n",
    "            #add the '-vt' into wave funtion to promote propagation\n",
    "            GRAPH[j,i] = sin(k*r1-v*t) * h0/(k*r1-v*t)*exp(-r1*t*.01) + sin(k*r2-v*t) * h0/(k*r2-v*t)*exp(-r2*t*.01) #+ sin(k*r3-v*t) * h0\n",
    "    #Update\n",
    "    if plt_surface:\n",
    "        plt_surface.heights = GRAPH "
   ]
  },
  {
   "cell_type": "code",
   "execution_count": 5,
   "metadata": {
    "ExecuteTime": {
     "end_time": "2020-11-18T21:43:04.570213Z",
     "start_time": "2020-11-18T21:43:04.558711Z"
    },
    "code_folding": []
   },
   "outputs": [],
   "source": [
    "##@jit\n",
    "def pebbles3( frame_index= 0, wavelength=  5.0,\n",
    "         v = 10.0,\n",
    "        h0 = 40.0,\n",
    "        x1 = 50.0,y1 = 50.0,\n",
    "        x2 = 25.0,y2 = 75.0,\n",
    "        x3 = 75.0,y3 = 25.0,\n",
    "        Resolution = 250):\n",
    "    global GRAPH\n",
    "\n",
    "    # Calculations relevant to waves\n",
    "    t = frame_index / fps\n",
    "    k = 2*pi/wavelength\n",
    "   \n",
    "    spacing=side/Resolution\n",
    "    # Define graph\n",
    "    GRAPH = np.empty([Resolution, Resolution])\n",
    "    for j in range(Resolution): \n",
    "        y = spacing*j\n",
    "        for i in range(Resolution): \n",
    "            x = spacing*i\n",
    "           \n",
    "            r1 = ((x-x1)**2+(y-y1)**2)**0.5\n",
    "            r2 = ((x-x2)**2+(y-y2)**2)**0.5\n",
    "            r3 = ((x-x3)**2+(y-y3)**2)**0.5\n",
    "            if r1 == 0:\n",
    "                r1 = 10**-10.0\n",
    "            if r2 == 0:\n",
    "                r2 = 10**-10.0\n",
    "            if r3 == 0:\n",
    "                r3 = 10**-10.0\n",
    "            #add the '-vt' into wave funtion to promote propagation\n",
    "            GRAPH[j,i] = sin(k*r1-v*t) * h0/(k*r1-v*t)*exp(-r1*t*.01) + sin(k*r2-v*t) * h0/(k*r2-v*t)*exp(-r2*t*.01) + sin(k*r3-v*t) * h0/(k*r3-v*t)*exp(-r3*t*.01)\n",
    "    #Update\n",
    "    if plt_surface:\n",
    "        plt_surface.heights = GRAPH \n"
   ]
  },
  {
   "cell_type": "markdown",
   "metadata": {},
   "source": [
    "## "
   ]
  },
  {
   "cell_type": "code",
   "execution_count": 6,
   "metadata": {
    "ExecuteTime": {
     "end_time": "2020-11-18T21:43:08.062267Z",
     "start_time": "2020-11-18T21:43:04.571205Z"
    },
    "code_folding": [],
    "scrolled": false,
    "slideshow": {
     "slide_type": "slide"
    }
   },
   "outputs": [
    {
     "data": {
      "application/vnd.jupyter.widget-view+json": {
       "model_id": "748d1064004b4657b1c20f8a7e0b9abb",
       "version_major": 2,
       "version_minor": 0
      },
      "text/plain": [
       "HBox(children=(Play(value=50, description='Press play', max=150), IntSlider(value=0)))"
      ]
     },
     "metadata": {},
     "output_type": "display_data"
    },
    {
     "name": "stdout",
     "output_type": "stream",
     "text": [
      "How may pebble(s) do you want to throw? [Enter value: 1  2  or 3 ]: 3\n"
     ]
    },
    {
     "data": {
      "application/vnd.jupyter.widget-view+json": {
       "model_id": "9041feb5fa5d4d50b39a66811b815582",
       "version_major": 2,
       "version_minor": 0
      },
      "text/plain": [
       "interactive(children=(IntSlider(value=0, description='frame_index'), FloatSlider(value=5.0, description='wavel…"
      ]
     },
     "metadata": {},
     "output_type": "display_data"
    },
    {
     "name": "stderr",
     "output_type": "stream",
     "text": [
      "E:\\zthel\\Documents\\ANACONDA\\lib\\site-packages\\traittypes\\traittypes.py:97: UserWarning: Given trait value dtype \"float64\" does not match required type \"float32\". A coerced copy has been created.\n",
      "  warnings.warn(\n"
     ]
    },
    {
     "data": {
      "application/vnd.jupyter.widget-view+json": {
       "model_id": "6c44ebe5903844cab3fc3c818ea545c2",
       "version_major": 2,
       "version_minor": 0
      },
      "text/plain": [
       "Output()"
      ]
     },
     "metadata": {},
     "output_type": "display_data"
    }
   ],
   "source": [
    "#@jit\n",
    "play = widgets.Play(\n",
    "    value= 50,\n",
    "    min  = 0,\n",
    "    max  = 150,\n",
    "    step = 1,\n",
    "    description = \"Press play\",\n",
    "    disabled = False )\n",
    "\n",
    "#play button\n",
    "play_slider = widgets.IntSlider()\n",
    "widgets.jslink((play, 'value'), (play_slider, 'value'))\n",
    "play_ui = widgets.HBox([play, play_slider])\n",
    "display(play_ui)\n",
    "\n",
    "#wave controls\n",
    "ask = int(input(\"How may pebble(s) do you want to throw? [Enter value: 1  2  or 3 ]: \"))\n",
    "\n",
    "if ask == 1: \n",
    "    C= widgets.interactive(pebbles,\n",
    "            frame_index= play_slider,\n",
    "            Resolution = (10, 500),\n",
    "            wavelength = (0., 20.),\n",
    "            v =(0., 20.),\n",
    "            h0=(0., 50.),\n",
    "                            \n",
    "            x1=(0., side),y1=(0., side))\n",
    "elif ask== 2:\n",
    "    C= widgets.interactive(pebbles2,\n",
    "           frame_index= play_slider,\n",
    "           Resolution = (10, 500),\n",
    "          wavelength = (0., 20.),\n",
    "           v =(0., 20.),\n",
    "           h0=(0., 50.),\n",
    "                      \n",
    "           x1=(0., side),y1=(0., side),\n",
    "           x2=(0., side),y2=(0., side))\n",
    "else:\n",
    "    C= widgets.interactive(pebbles3,\n",
    "           frame_index= play_slider,\n",
    "           Resolution = (10, 500),\n",
    "           wavelength = (0., 20.),\n",
    "           v =(0., 20.),\n",
    "           h0=(0., 50.),\n",
    "                 \n",
    "           x1=(0., side),y1=(0., side),\n",
    "           x2=(0., side),y2=(0., side),\n",
    "           x3=(0., side),y3=(0., side))\n",
    "\n",
    "display(C)\n",
    "\n",
    "# k3d plots\n",
    "plot = k3d.plot()\n",
    "plt_surface = k3d.surface(GRAPH, bounds=[xmin,xmax,ymin,ymax])\n",
    "plt_surface.heights = GRAPH\n",
    "plot += plt_surface\n",
    "plot.display()\n"
   ]
  },
  {
   "cell_type": "code",
   "execution_count": null,
   "metadata": {},
   "outputs": [],
   "source": []
  }
 ],
 "metadata": {
  "kernelspec": {
   "display_name": "Python 3",
   "language": "python",
   "name": "python3"
  },
  "language_info": {
   "codemirror_mode": {
    "name": "ipython",
    "version": 3
   },
   "file_extension": ".py",
   "mimetype": "text/x-python",
   "name": "python",
   "nbconvert_exporter": "python",
   "pygments_lexer": "ipython3",
   "version": "3.8.3"
  },
  "toc": {
   "base_numbering": 1,
   "nav_menu": {},
   "number_sections": true,
   "sideBar": true,
   "skip_h1_title": false,
   "title_cell": "Table of Contents",
   "title_sidebar": "Contents",
   "toc_cell": false,
   "toc_position": {},
   "toc_section_display": true,
   "toc_window_display": false
  },
  "varInspector": {
   "cols": {
    "lenName": 16,
    "lenType": 16,
    "lenVar": 40
   },
   "kernels_config": {
    "python": {
     "delete_cmd_postfix": "",
     "delete_cmd_prefix": "del ",
     "library": "var_list.py",
     "varRefreshCmd": "print(var_dic_list())"
    },
    "r": {
     "delete_cmd_postfix": ") ",
     "delete_cmd_prefix": "rm(",
     "library": "var_list.r",
     "varRefreshCmd": "cat(var_dic_list()) "
    }
   },
   "types_to_exclude": [
    "module",
    "function",
    "builtin_function_or_method",
    "instance",
    "_Feature"
   ],
   "window_display": false
  }
 },
 "nbformat": 4,
 "nbformat_minor": 4
}
