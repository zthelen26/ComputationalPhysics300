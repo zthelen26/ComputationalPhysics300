{
 "cells": [
  {
   "cell_type": "markdown",
   "metadata": {},
   "source": [
    "- 17\n",
    "\n",
    " - Write a program to find the ground state of LJ potential for N=3 (assuming $\\epsilon$ = $\\sigma$ = 1)"
   ]
  },
  {
   "cell_type": "code",
   "execution_count": 21,
   "metadata": {
    "ExecuteTime": {
     "end_time": "2020-11-02T00:51:53.015737Z",
     "start_time": "2020-11-02T00:51:53.011748Z"
    }
   },
   "outputs": [],
   "source": [
    "import numpy as np\n",
    "import matplotlib.pyplot as plt\n",
    "\n",
    "def LJ(r):\n",
    "    Epsilon = 1\n",
    "    sig = 1\n",
    "    r6 = r**6\n",
    "    r12 = r6*r6\n",
    "    return 4*Epsilon*(sig/r12 - sig/r6)\n",
    "\n",
    "r = np.linspace(1.0,3.0,100)\n",
    "#plt.plot(r, LJ(r))\n",
    "#plt.show()\n",
    "\n",
    "#print('minimum value:   ', min(LJ(r)))"
   ]
  },
  {
   "cell_type": "code",
   "execution_count": 22,
   "metadata": {
    "ExecuteTime": {
     "end_time": "2020-11-02T00:51:53.241145Z",
     "start_time": "2020-11-02T00:51:53.237158Z"
    }
   },
   "outputs": [],
   "source": [
    "#distance between Na, Nb, Nc ...\n",
    "def dr(x1, x2, y1, y2):\n",
    "    return(((x2 - x1)**2 + (y2-y1)**2)**0.5)"
   ]
  },
  {
   "cell_type": "code",
   "execution_count": 23,
   "metadata": {
    "ExecuteTime": {
     "end_time": "2020-11-02T00:51:53.500957Z",
     "start_time": "2020-11-02T00:51:53.442114Z"
    }
   },
   "outputs": [
    {
     "name": "stdout",
     "output_type": "stream",
     "text": [
      "Minimum value is:  -0.7732993569481492\n"
     ]
    }
   ],
   "source": [
    "def minLJ(N):\n",
    "#    ME = []\n",
    "    \n",
    "    for i in range(N):\n",
    "        # n_1\n",
    "        x1 = 5*np.random.random()\n",
    "        y1 = 5*np.random.random()\n",
    "        #n_2\n",
    "        x2 = 5*np.random.random()\n",
    "        y2 = 5*np.random.random()\n",
    "        #n_3\n",
    "        x3 = 5*np.random.random()\n",
    "        y3 = 5*np.random.random()\n",
    "        \n",
    "        #dr per point\n",
    "        r12 = dr(x1,y1,x2,y2)\n",
    "        r13 = dr(x1,y1,x3,y3)\n",
    "        r23 = dr(x2,y2,x3,y3)\n",
    "        \n",
    "        #energy LJ\n",
    "        E12 = LJ(r12)\n",
    "        E13 = LJ(r13)\n",
    "        E23 = LJ(r23)\n",
    "        \n",
    "        TE = E12 + E13 + E23\n",
    "        \n",
    "#        ME.append(TE)\n",
    "        \n",
    "    return TE\n",
    "\n",
    "print('Minimum value is: ', minLJ(10000))\n",
    "    "
   ]
  },
  {
   "cell_type": "code",
   "execution_count": null,
   "metadata": {},
   "outputs": [],
   "source": []
  }
 ],
 "metadata": {
  "kernelspec": {
   "display_name": "Python 3",
   "language": "python",
   "name": "python3"
  },
  "language_info": {
   "codemirror_mode": {
    "name": "ipython",
    "version": 3
   },
   "file_extension": ".py",
   "mimetype": "text/x-python",
   "name": "python",
   "nbconvert_exporter": "python",
   "pygments_lexer": "ipython3",
   "version": "3.8.3"
  },
  "toc": {
   "base_numbering": 1,
   "nav_menu": {},
   "number_sections": true,
   "sideBar": true,
   "skip_h1_title": false,
   "title_cell": "Table of Contents",
   "title_sidebar": "Contents",
   "toc_cell": false,
   "toc_position": {},
   "toc_section_display": true,
   "toc_window_display": false
  },
  "varInspector": {
   "cols": {
    "lenName": 16,
    "lenType": 16,
    "lenVar": 40
   },
   "kernels_config": {
    "python": {
     "delete_cmd_postfix": "",
     "delete_cmd_prefix": "del ",
     "library": "var_list.py",
     "varRefreshCmd": "print(var_dic_list())"
    },
    "r": {
     "delete_cmd_postfix": ") ",
     "delete_cmd_prefix": "rm(",
     "library": "var_list.r",
     "varRefreshCmd": "cat(var_dic_list()) "
    }
   },
   "types_to_exclude": [
    "module",
    "function",
    "builtin_function_or_method",
    "instance",
    "_Feature"
   ],
   "window_display": false
  }
 },
 "nbformat": 4,
 "nbformat_minor": 4
}
